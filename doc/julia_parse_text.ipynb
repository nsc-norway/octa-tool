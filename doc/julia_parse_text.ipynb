{
 "cells": [
  {
   "cell_type": "markdown",
   "metadata": {},
   "source": [
    "# Parsing text input from the DemuxSummary file(s)"
   ]
  },
  {
   "cell_type": "markdown",
   "metadata": {},
   "source": [
    "## Finding the file"
   ]
  },
  {
   "cell_type": "code",
   "execution_count": 3,
   "metadata": {
    "collapsed": false
   },
   "outputs": [
    {
     "data": {
      "text/plain": [
       "\"/home/fa2k/nsc/statfiles/170111_D00132_0218_ACAHFEANXX/Data/Intensities/BaseCalls/Stats\""
      ]
     },
     "execution_count": 3,
     "metadata": {},
     "output_type": "execute_result"
    }
   ],
   "source": [
    "stat_dir = \"/home/fa2k/nsc/statfiles/170111_D00132_0218_ACAHFEANXX/Data/Intensities/BaseCalls/Stats\""
   ]
  },
  {
   "cell_type": "code",
   "execution_count": 4,
   "metadata": {
    "collapsed": false
   },
   "outputs": [],
   "source": [
    "stat_files = readdir(stat_dir)\n",
    "demux_summary_files = Dict()\n",
    "for filename = stat_files\n",
    "    m = match(r\"^DemuxSummaryF1L(\\d)\\.txt\", filename)\n",
    "    if (m != nothing)\n",
    "        demux_summary_files[parse(Int, m.captures[1])] = joinpath(stat_dir, filename)\n",
    "    end\n",
    "end"
   ]
  },
  {
   "cell_type": "code",
   "execution_count": 5,
   "metadata": {
    "collapsed": false
   },
   "outputs": [
    {
     "data": {
      "text/plain": [
       "Dict{Any,Any} with 8 entries:\n",
       "  7 => \"/home/fa2k/nsc/statfiles/170111_D00132_0218_ACAHFEANXX/Data/Intensities…\n",
       "  4 => \"/home/fa2k/nsc/statfiles/170111_D00132_0218_ACAHFEANXX/Data/Intensities…\n",
       "  2 => \"/home/fa2k/nsc/statfiles/170111_D00132_0218_ACAHFEANXX/Data/Intensities…\n",
       "  3 => \"/home/fa2k/nsc/statfiles/170111_D00132_0218_ACAHFEANXX/Data/Intensities…\n",
       "  5 => \"/home/fa2k/nsc/statfiles/170111_D00132_0218_ACAHFEANXX/Data/Intensities…\n",
       "  8 => \"/home/fa2k/nsc/statfiles/170111_D00132_0218_ACAHFEANXX/Data/Intensities…\n",
       "  6 => \"/home/fa2k/nsc/statfiles/170111_D00132_0218_ACAHFEANXX/Data/Intensities…\n",
       "  1 => \"/home/fa2k/nsc/statfiles/170111_D00132_0218_ACAHFEANXX/Data/Intensities…"
      ]
     },
     "execution_count": 5,
     "metadata": {},
     "output_type": "execute_result"
    }
   ],
   "source": [
    "demux_summary_files"
   ]
  },
  {
   "cell_type": "code",
   "execution_count": 9,
   "metadata": {
    "collapsed": false
   },
   "outputs": [
    {
     "name": "stdout",
     "output_type": "stream",
     "text": [
      "7+/home/fa2k/nsc/statfiles/170111_D00132_0218_ACAHFEANXX/Data/Intensities/BaseCalls/Stats/DemuxSummaryF1L7.txt\n",
      "4+/home/fa2k/nsc/statfiles/170111_D00132_0218_ACAHFEANXX/Data/Intensities/BaseCalls/Stats/DemuxSummaryF1L4.txt\n",
      "2+/home/fa2k/nsc/statfiles/170111_D00132_0218_ACAHFEANXX/Data/Intensities/BaseCalls/Stats/DemuxSummaryF1L2.txt\n",
      "3+/home/fa2k/nsc/statfiles/170111_D00132_0218_ACAHFEANXX/Data/Intensities/BaseCalls/Stats/DemuxSummaryF1L3.txt\n",
      "5+/home/fa2k/nsc/statfiles/170111_D00132_0218_ACAHFEANXX/Data/Intensities/BaseCalls/Stats/DemuxSummaryF1L5.txt\n",
      "8+/home/fa2k/nsc/statfiles/170111_D00132_0218_ACAHFEANXX/Data/Intensities/BaseCalls/Stats/DemuxSummaryF1L8.txt\n",
      "6+/home/fa2k/nsc/statfiles/170111_D00132_0218_ACAHFEANXX/Data/Intensities/BaseCalls/Stats/DemuxSummaryF1L6.txt\n",
      "1+/home/fa2k/nsc/statfiles/170111_D00132_0218_ACAHFEANXX/Data/Intensities/BaseCalls/Stats/DemuxSummaryF1L1.txt\n"
     ]
    }
   ],
   "source": [
    "for (lane,path) = demux_summary_files\n",
    "    println(lane, \"+\", path)\n",
    "end"
   ]
  },
  {
   "cell_type": "markdown",
   "metadata": {},
   "source": [
    "## Parsing of the file"
   ]
  },
  {
   "cell_type": "code",
   "execution_count": 14,
   "metadata": {
    "collapsed": false
   },
   "outputs": [
    {
     "data": {
      "text/plain": [
       "\"/home/fa2k/nsc/statfiles/170111_D00132_0218_ACAHFEANXX/Data/Intensities/BaseCalls/Stats/DemuxSummaryF1L1.txt\""
      ]
     },
     "execution_count": 14,
     "metadata": {},
     "output_type": "execute_result"
    }
   ],
   "source": [
    "example_file = demux_summary_files[1]"
   ]
  },
  {
   "cell_type": "code",
   "execution_count": 26,
   "metadata": {
    "collapsed": false
   },
   "outputs": [],
   "source": [
    "unknown_barcode_count = Dict()\n",
    "\n",
    "open(example_file) do f\n",
    "    found_unknown_bc_section = false\n",
    "    for line = eachline(f)\n",
    "        if found_unknown_bc_section\n",
    "            if ! startswith(line, \"###\")\n",
    "                barcode = \"Lol\"\n",
    "                count = 1\n",
    "                unknown_barcode_count[barcode] = count\n",
    "            end\n",
    "        elseif strip(line) == \"### Most Popular Unknown Index Sequences\"\n",
    "            found_unknown_bc_section = true\n",
    "        end\n",
    "    end\n",
    "end"
   ]
  },
  {
   "cell_type": "code",
   "execution_count": 23,
   "metadata": {
    "collapsed": false
   },
   "outputs": [
    {
     "name": "stdout",
     "output_type": "stream",
     "text": [
      "search: "
     ]
    },
    {
     "data": {
      "text/latex": [
       "\\begin{verbatim}\n",
       "startswith(string, prefix | chars)\n",
       "\\end{verbatim}\n",
       "Returns \\texttt{true} if \\texttt{string} starts with \\texttt{prefix}. If the second argument is a vector or set of characters, tests whether the first character of \\texttt{string} belongs to that set.\n"
      ],
      "text/markdown": [
       "```\n",
       "startswith(string, prefix | chars)\n",
       "```\n",
       "\n",
       "Returns `true` if `string` starts with `prefix`. If the second argument is a vector or set of characters, tests whether the first character of `string` belongs to that set.\n"
      ],
      "text/plain": [
       "```\n",
       "startswith(string, prefix | chars)\n",
       "```\n",
       "\n",
       "Returns `true` if `string` starts with `prefix`. If the second argument is a vector or set of characters, tests whether the first character of `string` belongs to that set.\n"
      ]
     },
     "execution_count": 23,
     "metadata": {},
     "output_type": "execute_result"
    },
    {
     "name": "stdout",
     "output_type": "stream",
     "text": [
      "startswith\n",
      "\n"
     ]
    }
   ],
   "source": [
    "?startswith"
   ]
  },
  {
   "cell_type": "code",
   "execution_count": 28,
   "metadata": {
    "collapsed": false
   },
   "outputs": [
    {
     "name": "stdout",
     "output_type": "stream",
     "text": [
      "search: "
     ]
    },
    {
     "data": {
      "text/latex": [
       "No documentation found.\n",
       "\\textbf{Summary:}\n",
       "\\begin{verbatim}\n",
       "abstract AbstractString <: Any\n",
       "\\end{verbatim}\n",
       "\\textbf{Subtypes:}\n",
       "\\begin{verbatim}\n",
       "Base.SubstitutionString{T<:AbstractString}\n",
       "DirectIndexString\n",
       "RepString\n",
       "RevString{T<:AbstractString}\n",
       "RopeString\n",
       "SubString{T<:AbstractString}\n",
       "UTF16String\n",
       "UTF8String\n",
       "\\end{verbatim}\n"
      ],
      "text/markdown": [
       "No documentation found.\n",
       "\n",
       "**Summary:**\n",
       "\n",
       "```julia\n",
       "abstract AbstractString <: Any\n",
       "```\n",
       "\n",
       "**Subtypes:**\n",
       "\n",
       "```julia\n",
       "Base.SubstitutionString{T<:AbstractString}\n",
       "DirectIndexString\n",
       "RepString\n",
       "RevString{T<:AbstractString}\n",
       "RopeString\n",
       "SubString{T<:AbstractString}\n",
       "UTF16String\n",
       "UTF8String\n",
       "```\n"
      ],
      "text/plain": [
       "No documentation found.\n",
       "\n",
       "**Summary:**\n",
       "\n",
       "```julia\n",
       "abstract AbstractString <: Any\n",
       "```\n",
       "\n",
       "**Subtypes:**\n",
       "\n",
       "```julia\n",
       "Base.SubstitutionString{T<:AbstractString}\n",
       "DirectIndexString\n",
       "RepString\n",
       "RevString{T<:AbstractString}\n",
       "RopeString\n",
       "SubString{T<:AbstractString}\n",
       "UTF16String\n",
       "UTF8String\n",
       "```\n"
      ]
     },
     "execution_count": 28,
     "metadata": {},
     "output_type": "execute_result"
    },
    {
     "name": "stdout",
     "output_type": "stream",
     "text": [
      "AbstractString AbstractSparseMatrix AbstractSparseVector\n",
      "\n"
     ]
    }
   ],
   "source": [
    "?AbstractString"
   ]
  },
  {
   "cell_type": "code",
   "execution_count": null,
   "metadata": {
    "collapsed": true
   },
   "outputs": [],
   "source": []
  }
 ],
 "metadata": {
  "anaconda-cloud": {},
  "kernelspec": {
   "display_name": "Julia 0.4.7",
   "language": "julia",
   "name": "julia-0.4"
  },
  "language_info": {
   "file_extension": ".jl",
   "mimetype": "application/julia",
   "name": "julia",
   "version": "0.4.7"
  }
 },
 "nbformat": 4,
 "nbformat_minor": 1
}
