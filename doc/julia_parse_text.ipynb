{
 "cells": [
  {
   "cell_type": "markdown",
   "metadata": {},
   "source": [
    "# Parsing text input from the DemuxSummary file(s)"
   ]
  },
  {
   "cell_type": "markdown",
   "metadata": {},
   "source": [
    "## Finding the file"
   ]
  },
  {
   "cell_type": "code",
   "execution_count": 2,
   "metadata": {
    "collapsed": false
   },
   "outputs": [
    {
     "data": {
      "text/plain": [
       "\"/home/fa2k/nsc/statfiles/170111_D00132_0218_ACAHFEANXX/Data/Intensities/BaseCalls/Stats\""
      ]
     },
     "execution_count": 2,
     "metadata": {},
     "output_type": "execute_result"
    }
   ],
   "source": [
    "stat_dir = \"/home/fa2k/nsc/statfiles/170111_D00132_0218_ACAHFEANXX/Data/Intensities/BaseCalls/Stats\""
   ]
  },
  {
   "cell_type": "code",
   "execution_count": 3,
   "metadata": {
    "collapsed": false
   },
   "outputs": [],
   "source": [
    "stat_files = readdir(stat_dir)\n",
    "demux_summary_files = Dict()\n",
    "for filename = stat_files\n",
    "    m = match(r\"^DemuxSummaryF1L(\\d)\\.txt\", filename)\n",
    "    if (m != nothing)\n",
    "        demux_summary_files[parse(Int, m.captures[1])] = joinpath(stat_dir, filename)\n",
    "    end\n",
    "end"
   ]
  },
  {
   "cell_type": "code",
   "execution_count": 4,
   "metadata": {
    "collapsed": false
   },
   "outputs": [
    {
     "data": {
      "text/plain": [
       "Dict{Any,Any} with 8 entries:\n",
       "  7 => \"/home/fa2k/nsc/statfiles/170111_D00132_0218_ACAHFEANXX/Data/Intensities…\n",
       "  4 => \"/home/fa2k/nsc/statfiles/170111_D00132_0218_ACAHFEANXX/Data/Intensities…\n",
       "  2 => \"/home/fa2k/nsc/statfiles/170111_D00132_0218_ACAHFEANXX/Data/Intensities…\n",
       "  3 => \"/home/fa2k/nsc/statfiles/170111_D00132_0218_ACAHFEANXX/Data/Intensities…\n",
       "  5 => \"/home/fa2k/nsc/statfiles/170111_D00132_0218_ACAHFEANXX/Data/Intensities…\n",
       "  8 => \"/home/fa2k/nsc/statfiles/170111_D00132_0218_ACAHFEANXX/Data/Intensities…\n",
       "  6 => \"/home/fa2k/nsc/statfiles/170111_D00132_0218_ACAHFEANXX/Data/Intensities…\n",
       "  1 => \"/home/fa2k/nsc/statfiles/170111_D00132_0218_ACAHFEANXX/Data/Intensities…"
      ]
     },
     "execution_count": 4,
     "metadata": {},
     "output_type": "execute_result"
    }
   ],
   "source": [
    "demux_summary_files"
   ]
  },
  {
   "cell_type": "code",
   "execution_count": 5,
   "metadata": {
    "collapsed": false
   },
   "outputs": [
    {
     "name": "stdout",
     "output_type": "stream",
     "text": [
      "7+/home/fa2k/nsc/statfiles/170111_D00132_0218_ACAHFEANXX/Data/Intensities/BaseCalls/Stats/DemuxSummaryF1L7.txt\n",
      "4+/home/fa2k/nsc/statfiles/170111_D00132_0218_ACAHFEANXX/Data/Intensities/BaseCalls/Stats/DemuxSummaryF1L4.txt\n",
      "2+/home/fa2k/nsc/statfiles/170111_D00132_0218_ACAHFEANXX/Data/Intensities/BaseCalls/Stats/DemuxSummaryF1L2.txt\n",
      "3+/home/fa2k/nsc/statfiles/170111_D00132_0218_ACAHFEANXX/Data/Intensities/BaseCalls/Stats/DemuxSummaryF1L3.txt\n",
      "5+/home/fa2k/nsc/statfiles/170111_D00132_0218_ACAHFEANXX/Data/Intensities/BaseCalls/Stats/DemuxSummaryF1L5.txt\n",
      "8+/home/fa2k/nsc/statfiles/170111_D00132_0218_ACAHFEANXX/Data/Intensities/BaseCalls/Stats/DemuxSummaryF1L8.txt\n",
      "6+/home/fa2k/nsc/statfiles/170111_D00132_0218_ACAHFEANXX/Data/Intensities/BaseCalls/Stats/DemuxSummaryF1L6.txt\n",
      "1+/home/fa2k/nsc/statfiles/170111_D00132_0218_ACAHFEANXX/Data/Intensities/BaseCalls/Stats/DemuxSummaryF1L1.txt\n"
     ]
    }
   ],
   "source": [
    "for (lane,path) = demux_summary_files\n",
    "    println(lane, \"+\", path)\n",
    "end"
   ]
  },
  {
   "cell_type": "markdown",
   "metadata": {},
   "source": [
    "## Parsing of the file"
   ]
  },
  {
   "cell_type": "code",
   "execution_count": 6,
   "metadata": {
    "collapsed": false
   },
   "outputs": [
    {
     "data": {
      "text/plain": [
       "\"/home/fa2k/nsc/statfiles/170111_D00132_0218_ACAHFEANXX/Data/Intensities/BaseCalls/Stats/DemuxSummaryF1L1.txt\""
      ]
     },
     "execution_count": 6,
     "metadata": {},
     "output_type": "execute_result"
    }
   ],
   "source": [
    "example_file = demux_summary_files[1]"
   ]
  },
  {
   "cell_type": "code",
   "execution_count": 7,
   "metadata": {
    "collapsed": false
   },
   "outputs": [],
   "source": [
    "unknown_barcode_count = Dict()\n",
    "\n",
    "open(example_file) do f\n",
    "    found_unknown_bc_section = false\n",
    "    for line = eachline(f)\n",
    "        if found_unknown_bc_section\n",
    "            if ! startswith(line, \"###\")\n",
    "                (barcode, count_str) = split(line)\n",
    "                unknown_barcode_count[barcode] = parse(Int64, count_str)\n",
    "            end\n",
    "        elseif strip(line) == \"### Most Popular Unknown Index Sequences\"\n",
    "            found_unknown_bc_section = true\n",
    "        end\n",
    "    end\n",
    "end"
   ]
  },
  {
   "cell_type": "code",
   "execution_count": 8,
   "metadata": {
    "collapsed": false
   },
   "outputs": [
    {
     "data": {
      "text/plain": [
       "Dict{Any,Any} with 1000 entries:\n",
       "  \"AGTCTAAT\" => 1614\n",
       "  \"GAATGGTG\" => 2448\n",
       "  \"GTTAGTCT\" => 1727\n",
       "  \"TAAAAGCA\" => 1039\n",
       "  \"AAGCAAAA\" => 3699\n",
       "  \"GATAGTCT\" => 2150\n",
       "  \"AGGGTAAA\" => 4812\n",
       "  \"GGGCGAAG\" => 1285\n",
       "  \"CTATCTTC\" => 3015\n",
       "  \"TCGTCTAA\" => 174631\n",
       "  \"ACAAAAAA\" => 3057\n",
       "  \"AAAAAGGA\" => 1452\n",
       "  \"GAGAGAAG\" => 1271\n",
       "  \"GAACCAAC\" => 1333\n",
       "  \"GATTATGT\" => 1621\n",
       "  \"AATTCAAT\" => 3637\n",
       "  \"GAAAAGGT\" => 1291\n",
       "  \"CAAAATGA\" => 2372\n",
       "  \"GTTTGTGT\" => 2798\n",
       "  \"GAACCACG\" => 1018\n",
       "  \"AAAAAACA\" => 18099\n",
       "  \"CTATGAAT\" => 15694\n",
       "  \"TCATCCTT\" => 1335\n",
       "  \"GATTCAAT\" => 1539\n",
       "  \"GAATATCT\" => 4369\n",
       "  ⋮          => ⋮"
      ]
     },
     "execution_count": 8,
     "metadata": {},
     "output_type": "execute_result"
    }
   ],
   "source": [
    "unknown_barcode_count"
   ]
  },
  {
   "cell_type": "code",
   "execution_count": 11,
   "metadata": {
    "collapsed": false
   },
   "outputs": [
    {
     "name": "stdout",
     "output_type": "stream",
     "text": [
      "search: "
     ]
    },
    {
     "data": {
      "text/latex": [
       "\\begin{verbatim}\n",
       "..  zip(iters...)\n",
       "\n",
       "For a set of iterable objects, returns an iterable of tuples, where the ``i``\\ th tuple contains the ``i``\\ th component of each input iterable.\n",
       "\n",
       "Note that :func:`zip` is its own inverse: ``collect(zip(zip(a...)...)) == collect(a)``.\n",
       "\\end{verbatim}\n"
      ],
      "text/markdown": [
       "```rst\n",
       "..  zip(iters...)\n",
       "\n",
       "For a set of iterable objects, returns an iterable of tuples, where the ``i``\\ th tuple contains the ``i``\\ th component of each input iterable.\n",
       "\n",
       "Note that :func:`zip` is its own inverse: ``collect(zip(zip(a...)...)) == collect(a)``.\n",
       "```\n"
      ],
      "text/plain": [
       "```rst\n",
       "..  zip(iters...)\n",
       "\n",
       "For a set of iterable objects, returns an iterable of tuples, where the ``i``\\ th tuple contains the ``i``\\ th component of each input iterable.\n",
       "\n",
       "Note that :func:`zip` is its own inverse: ``collect(zip(zip(a...)...)) == collect(a)``.\n",
       "```\n"
      ]
     },
     "execution_count": 11,
     "metadata": {},
     "output_type": "execute_result"
    },
    {
     "name": "stdout",
     "output_type": "stream",
     "text": [
      "zip Zip\n",
      "\n"
     ]
    }
   ],
   "source": [
    "?zip"
   ]
  },
  {
   "cell_type": "code",
   "execution_count": null,
   "metadata": {
    "collapsed": true
   },
   "outputs": [],
   "source": []
  }
 ],
 "metadata": {
  "anaconda-cloud": {},
  "kernelspec": {
   "display_name": "Julia 0.4.7",
   "language": "julia",
   "name": "julia-0.4"
  },
  "language_info": {
   "file_extension": ".jl",
   "mimetype": "application/julia",
   "name": "julia",
   "version": "0.4.7"
  }
 },
 "nbformat": 4,
 "nbformat_minor": 1
}
