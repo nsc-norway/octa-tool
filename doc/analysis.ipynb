{
 "cells": [
  {
   "cell_type": "markdown",
   "metadata": {
    "collapsed": true
   },
   "source": [
    "## Analysis code from OCTA-tool"
   ]
  },
  {
   "cell_type": "markdown",
   "metadata": {},
   "source": [
    "Notebook for experimenting with how to do the analysis"
   ]
  },
  {
   "cell_type": "markdown",
   "metadata": {
    "collapsed": true
   },
   "source": [
    "### Loading data"
   ]
  },
  {
   "cell_type": "code",
   "execution_count": 1,
   "metadata": {
    "collapsed": false
   },
   "outputs": [
    {
     "data": {
      "text/plain": [
       "get_demultiplexing_stats (generic function with 1 method)"
      ]
     },
     "execution_count": 1,
     "metadata": {},
     "output_type": "execute_result"
    }
   ],
   "source": [
    "using LibExpat\n",
    "# C/P\n",
    "function get_unknown_barcodes(stats_dir, lane)\n",
    "    summary_path = joinpath(stats_dir, \"DemuxSummaryF1L$(lane).txt\")\n",
    "    unknown_barcode_count = Dict()\n",
    "    open(summary_path) do f\n",
    "        found_unknown_bc_section = false\n",
    "        for line = eachline(f)\n",
    "            if found_unknown_bc_section\n",
    "                if ! startswith(line, \"###\")\n",
    "                    (barcode, count_str) = split(line, \"\\t\")\n",
    "                    unknown_barcode_count[barcode] = parse(Int64, count_str)\n",
    "                end\n",
    "            elseif strip(line) == \"### Most Popular Unknown Index Sequences\"\n",
    "                found_unknown_bc_section = true\n",
    "            end\n",
    "        end\n",
    "    end\n",
    "    return unknown_barcode_count\n",
    "end\n",
    "\n",
    "function get_demultiplexing_stats(stats_dir)\n",
    "    xml_path = joinpath(stats_dir, \"DemultiplexingStats.xml\")\n",
    "    xmltree = xp_parse(readall(xml_path))\n",
    "    mismatch_xpath = \"Flowcell/Project[@name != \\\"all\\\"]/Sample/Barcode[@name != \\\"all\\\"]/Lane/BarcodeCount\"\n",
    "    mismatch_results = xmltree[mismatch_xpath]\n",
    "    perfect_xpath = \"Flowcell/Project[@name != \\\"all\\\"]/Sample/Barcode[@name != \\\"all\\\"]/Lane/PerfectBarcodeCount\"\n",
    "    perfect_results = xmltree[perfect_xpath]\n",
    "\n",
    "    read_counts = Dict()\n",
    "    perfect_read_counts = Dict()\n",
    "\n",
    "    for res = mismatch_results\n",
    "        lane = parse(Int,res.parent.attr[\"number\"])\n",
    "        barcode = res.parent.parent.attr[\"name\"]\n",
    "        \n",
    "        read_counts[(lane, barcode)] = parse(Int64, res.elements[1])\n",
    "    end\n",
    "    return read_counts, perfect_read_counts\n",
    "end\n"
   ]
  },
  {
   "cell_type": "code",
   "execution_count": 35,
   "metadata": {
    "collapsed": false
   },
   "outputs": [
    {
     "data": {
      "text/plain": [
       "4652858"
      ]
     },
     "execution_count": 35,
     "metadata": {},
     "output_type": "execute_result"
    }
   ],
   "source": [
    "# Adapted\n",
    "stats_dir = \"/home/fa2k/nsc/statfiles/170113_NB501273_0042_AHTKM2BGXY/Data/Intensities/BaseCalls/Stats\"\n",
    "\n",
    "lane = 1\n",
    "\n",
    "(read_counts, perfect_read_counts) = get_demultiplexing_stats(stats_dir)\n",
    "filtered_read_counts = filter((k, v) -> (k[1] == lane && k[2] != \"unknown\"), read_counts)\n",
    "sample_indexes =Dict(\n",
    "                [split(replace(barcode, \"+\", \"-\"), \"-\") => read_count\n",
    "                    for ((_,barcode), read_count) in filtered_read_counts]\n",
    "                )\n",
    "\n",
    "unknown_barcodes_raw = get_unknown_barcodes(stats_dir, lane)\n",
    "unknown_indexes = Dict(map(x -> split(replace(x[1], \"+\", \"-\"), \"-\") => x[2],\n",
    "                        unknown_barcodes_raw))\n",
    "\n",
    "unknown_total_reads = read_counts[(lane, \"unknown\")]"
   ]
  },
  {
   "cell_type": "markdown",
   "metadata": {},
   "source": [
    "## Analysis"
   ]
  },
  {
   "cell_type": "markdown",
   "metadata": {},
   "source": [
    "### Determine possible index combinations (sample)"
   ]
  },
  {
   "cell_type": "code",
   "execution_count": 3,
   "metadata": {
    "collapsed": false
   },
   "outputs": [
    {
     "data": {
      "text/plain": [
       "2-element Array{SubString{ASCIIString},1}:\n",
       " \"ATTACTCG\"\n",
       " \"TCAGAGCC\""
      ]
     },
     "execution_count": 3,
     "metadata": {},
     "output_type": "execute_result"
    }
   ],
   "source": [
    "first(keys(sample_indexes))"
   ]
  },
  {
   "cell_type": "code",
   "execution_count": 4,
   "metadata": {
    "collapsed": false
   },
   "outputs": [
    {
     "data": {
      "text/plain": [
       "(\"ATTACTCG\",\"ATTACTCG\",\"GAGATTCC\",\"ATTACTCG\",\"GAGATTCC\",\"CGCTCATT\",\"TCCGGAGA\",\"ATTACTCG\",\"ATTACTCG\",\"GAATTCGT\",\"CGCTCATT\",\"ATTACTCG\",\"TCCGGAGA\",\"GAATTCGT\",\"GAGATTCC\",\"GAATTCGT\",\"CGCTCATT\",\"GAGATTCC\",\"GAATTCGT\",\"GAATTCGT\",\"GAGATTCC\",\"TCCGGAGA\",\"ATTCAGAA\",\"GAATTCGT\",\"ATTCAGAA\",\"CGCTCATT\",\"GAGATTCC\",\"ATTACTCG\",\"ATTCAGAA\",\"CGCTCATT\",\"GAATTCGT\",\"ATTCAGAA\",\"TCCGGAGA\",\"TCCGGAGA\",\"TCCGGAGA\",\"GAGATTCC\",\"ATTCAGAA\",\"TCCGGAGA\",\"TCCGGAGA\",\"ATTCAGAA\",\"CGCTCATT\",\"ATTCAGAA\",\"CGCTCATT\",\"GAATTCGT\",\"ATTCAGAA\",\"GAGATTCC\",\"CGCTCATT\",\"ATTACTCG\")"
      ]
     },
     "execution_count": 4,
     "metadata": {},
     "output_type": "execute_result"
    }
   ],
   "source": [
    "first(zip(keys(sample_indexes)...))"
   ]
  },
  {
   "cell_type": "code",
   "execution_count": 5,
   "metadata": {
    "collapsed": false
   },
   "outputs": [
    {
     "data": {
      "text/plain": [
       "Set(SubString{ASCIIString}[\"GAATTCGT\",\"ATTCAGAA\",\"GAGATTCC\",\"ATTACTCG\",\"CGCTCATT\",\"TCCGGAGA\"])"
      ]
     },
     "execution_count": 5,
     "metadata": {},
     "output_type": "execute_result"
    }
   ],
   "source": [
    "sample_single_indexes = map(Set, zip(keys(sample_indexes)...)) # Indexes 1 and 2\n",
    "sample_single_indexes[1]"
   ]
  },
  {
   "cell_type": "code",
   "execution_count": 6,
   "metadata": {
    "collapsed": false
   },
   "outputs": [
    {
     "data": {
      "text/plain": [
       "6x8 Array{Tuple{Any,Any},2}:\n",
       " (\"GAATTCGT\",\"GTCAGTAC\")  (\"GAATTCGT\",\"TCAGAGCC\")  …  (\"GAATTCGT\",\"AGGCTATA\")\n",
       " (\"ATTCAGAA\",\"GTCAGTAC\")  (\"ATTCAGAA\",\"TCAGAGCC\")     (\"ATTCAGAA\",\"AGGCTATA\")\n",
       " (\"GAGATTCC\",\"GTCAGTAC\")  (\"GAGATTCC\",\"TCAGAGCC\")     (\"GAGATTCC\",\"AGGCTATA\")\n",
       " (\"ATTACTCG\",\"GTCAGTAC\")  (\"ATTACTCG\",\"TCAGAGCC\")     (\"ATTACTCG\",\"AGGCTATA\")\n",
       " (\"CGCTCATT\",\"GTCAGTAC\")  (\"CGCTCATT\",\"TCAGAGCC\")     (\"CGCTCATT\",\"AGGCTATA\")\n",
       " (\"TCCGGAGA\",\"GTCAGTAC\")  (\"TCCGGAGA\",\"TCAGAGCC\")  …  (\"TCCGGAGA\",\"AGGCTATA\")"
      ]
     },
     "execution_count": 6,
     "metadata": {},
     "output_type": "execute_result"
    }
   ],
   "source": [
    "combinations = [(i1, i2) for i1 in sample_single_indexes[1], i2 in sample_single_indexes[2]]"
   ]
  },
  {
   "cell_type": "markdown",
   "metadata": {},
   "source": [
    "### Is analysis feasible (any unused combinations)?"
   ]
  },
  {
   "cell_type": "code",
   "execution_count": 7,
   "metadata": {
    "collapsed": false
   },
   "outputs": [
    {
     "data": {
      "text/plain": [
       "48"
      ]
     },
     "execution_count": 7,
     "metadata": {},
     "output_type": "execute_result"
    }
   ],
   "source": [
    "length(sample_indexes)"
   ]
  },
  {
   "cell_type": "code",
   "execution_count": 8,
   "metadata": {
    "collapsed": false
   },
   "outputs": [
    {
     "data": {
      "text/plain": [
       "48"
      ]
     },
     "execution_count": 8,
     "metadata": {},
     "output_type": "execute_result"
    }
   ],
   "source": [
    "length(combinations)"
   ]
  },
  {
   "cell_type": "code",
   "execution_count": 9,
   "metadata": {
    "collapsed": false
   },
   "outputs": [
    {
     "data": {
      "text/plain": [
       "false"
      ]
     },
     "execution_count": 9,
     "metadata": {},
     "output_type": "execute_result"
    }
   ],
   "source": [
    "feasible = length(combinations) > length(sample_indexes)"
   ]
  },
  {
   "cell_type": "markdown",
   "metadata": {},
   "source": [
    "Note: if we can look at indexes with one known index and one unknown index, it is still possible to analyse data where all possible index combinations have been used. This will depend on the nature of the mis-assignment effect, and the results are not necessarily comparable:"
   ]
  },
  {
   "cell_type": "markdown",
   "metadata": {},
   "source": [
    "### Find number of reads per single (#1 or #2) index"
   ]
  },
  {
   "cell_type": "code",
   "execution_count": null,
   "metadata": {
    "collapsed": true
   },
   "outputs": [],
   "source": []
  },
  {
   "cell_type": "code",
   "execution_count": 32,
   "metadata": {
    "collapsed": false
   },
   "outputs": [
    {
     "data": {
      "text/plain": [
       "true"
      ]
     },
     "execution_count": 32,
     "metadata": {},
     "output_type": "execute_result"
    }
   ],
   "source": [
    "first(keys(sample_indexes)) == [\"ATTACTCG\", \"TCAGAGCC\"]"
   ]
  },
  {
   "cell_type": "code",
   "execution_count": 37,
   "metadata": {
    "collapsed": false
   },
   "outputs": [
    {
     "data": {
      "text/plain": [
       "Pair{Any,Any}(SubString{ASCIIString}[\"CGCTCATT\",\"GTCATACG\"],993)"
      ]
     },
     "execution_count": 37,
     "metadata": {},
     "output_type": "execute_result"
    }
   ],
   "source": [
    "first(unknown_indexes)"
   ]
  },
  {
   "cell_type": "code",
   "execution_count": 23,
   "metadata": {
    "collapsed": false
   },
   "outputs": [
    {
     "data": {
      "text/plain": [
       "\"GAATTCGT\""
      ]
     },
     "execution_count": 23,
     "metadata": {},
     "output_type": "execute_result"
    }
   ],
   "source": [
    "index_seq = nothing\n",
    "for t in sample_single_indexes[1]\n",
    "    index_seq = t # Unable to index into the set directly\n",
    "    break\n",
    "end\n",
    "index_seq"
   ]
  },
  {
   "cell_type": "code",
   "execution_count": 36,
   "metadata": {
    "collapsed": false
   },
   "outputs": [
    {
     "data": {
      "text/plain": [
       "(16778026,0)"
      ]
     },
     "execution_count": 36,
     "metadata": {},
     "output_type": "execute_result"
    }
   ],
   "source": [
    "in_known_samples = 0\n",
    "in_misassigned= 0\n",
    "in_unknown = 0\n",
    "for other_index_seq = sample_single_indexes[2]\n",
    "    in_known_samples += get(sample_indexes, [index_seq, other_index_seq], 0)\n",
    "    in_misassigned += get(unknown_indexes, [index_seq, other_index_seq], 0)\n",
    "end\n",
    "(in_known_samples, in_misassigned)"
   ]
  },
  {
   "cell_type": "code",
   "execution_count": 11,
   "metadata": {
    "collapsed": false
   },
   "outputs": [
    {
     "name": "stderr",
     "output_type": "stream",
     "text": [
      "WARNING: [a,b] concatenation is deprecated; use [a;b] instead\n"
     ]
    },
    {
     "ename": "LoadError",
     "evalue": "LoadError: syntax: invalid iteration specification\nwhile loading In[11], in expression starting on line 3",
     "output_type": "error",
     "traceback": [
      "LoadError: syntax: invalid iteration specification\nwhile loading In[11], in expression starting on line 3",
      ""
     ]
    },
    {
     "name": "stderr",
     "output_type": "stream",
     "text": [
      " in depwarn at ./deprecated.jl:73\n",
      "while loading In[11], in expression starting on line 1\n"
     ]
    }
   ],
   "source": [
    "single_index = [[],[]]\n",
    "\n",
    "for i_fixed, i_count = [(1,2), (2,1)]\n",
    "    \n",
    "    push!(single_index[i_fixed], '')\n",
    "end"
   ]
  },
  {
   "cell_type": "code",
   "execution_count": null,
   "metadata": {
    "collapsed": false
   },
   "outputs": [],
   "source": []
  },
  {
   "cell_type": "code",
   "execution_count": null,
   "metadata": {
    "collapsed": true
   },
   "outputs": [],
   "source": []
  }
 ],
 "metadata": {
  "anaconda-cloud": {},
  "kernelspec": {
   "display_name": "Julia 0.4.7",
   "language": "julia",
   "name": "julia-0.4"
  },
  "language_info": {
   "file_extension": ".jl",
   "mimetype": "application/julia",
   "name": "julia",
   "version": "0.4.7"
  }
 },
 "nbformat": 4,
 "nbformat_minor": 1
}
