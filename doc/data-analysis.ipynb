{
 "cells": [
  {
   "cell_type": "markdown",
   "metadata": {},
   "source": [
    "# Analysis of a real dataset"
   ]
  },
  {
   "cell_type": "markdown",
   "metadata": {},
   "source": [
    "This notebook is used to complete the analysis for a large number of real runs, and evaluate the results."
   ]
  },
  {
   "cell_type": "markdown",
   "metadata": {},
   "source": [
    "### Load the analysis library"
   ]
  },
  {
   "cell_type": "code",
   "execution_count": 1,
   "metadata": {
    "collapsed": false
   },
   "outputs": [
    {
     "name": "stdout",
     "output_type": "stream",
     "text": [
      "Lodule moded\n"
     ]
    }
   ],
   "source": [
    "include(\"../octalib.jl\")\n",
    "println(\"Lodule moded\")"
   ]
  },
  {
   "cell_type": "markdown",
   "metadata": {},
   "source": [
    "### Data input specification\n",
    "Please place a list of Illumina run directories in the file `example_data_path.txt` in the current (`doc/`) directory. The file should contain one path on each line."
   ]
  },
  {
   "cell_type": "code",
   "execution_count": 30,
   "metadata": {
    "collapsed": false
   },
   "outputs": [],
   "source": [
    "paths = [strip(l) for l = collect(eachline(open(\"example_data_path.txt\")))];"
   ]
  },
  {
   "cell_type": "markdown",
   "metadata": {},
   "source": [
    "## The analysis"
   ]
  },
  {
   "cell_type": "code",
   "execution_count": 31,
   "metadata": {
    "collapsed": false
   },
   "outputs": [],
   "source": [
    "# That's still a TODO!"
   ]
  },
  {
   "cell_type": "code",
   "execution_count": 24,
   "metadata": {
    "collapsed": false
   },
   "outputs": [
    {
     "name": "stdout",
     "output_type": "stream",
     "text": [
      "/ypool/bulk/fa2k/nsc/datasets/statfiles/1609/160920_E00401_0025_BH3NTKALXX\n",
      "\n",
      "/ypool/bulk/fa2k/nsc/datasets/statfiles/1609/160921_7001448_0421_AC9Y8FANXX\n",
      "\n",
      "/ypool/bulk/fa2k/nsc/datasets/statfiles/1609/160922_NB501273_0031_AHFFG3BGXY\n",
      "\n",
      "/ypool/bulk/fa2k/nsc/datasets/statfiles/1609/160922_NS500336_0141_AHFCJ3BGXY\n",
      "\n",
      "/ypool/bulk/fa2k/nsc/datasets/statfiles/1609/160923_M01132_0158_000000000-AU47F\n",
      "\n",
      "/ypool/bulk/fa2k/nsc/datasets/statfiles/1609/160923_NB501273_0032_AHGLWJBGXY\n",
      "\n",
      "/ypool/bulk/fa2k/nsc/datasets/statfiles/1609/160926_NB501273_0033_AHGKFCBGXY\n",
      "\n",
      "/ypool/bulk/fa2k/nsc/datasets/statfiles/1609/160926_NS500336_0142_AHGGYFBGXY\n",
      "\n",
      "/ypool/bulk/fa2k/nsc/datasets/statfiles/1609/160927_7001448_0422_ACA1BEANXX\n",
      "\n",
      "/ypool/bulk/fa2k/nsc/datasets/statfiles/1609/160927_J00146_0008_AHC3HVBBXX\n",
      "\n",
      "/ypool/bulk/fa2k/nsc/datasets/statfiles/1609/160928_NS500336_0143_AHLWNMBGXY\n",
      "\n",
      "/ypool/bulk/fa2k/nsc/datasets/statfiles/1609/160929_NB501273_0034_AHLYKWBGXY\n",
      "\n",
      "/ypool/bulk/fa2k/nsc/datasets/statfiles/1609/160929_NS500336_0144_AHLVYKBGXY\n",
      "\n",
      "/ypool/bulk/fa2k/nsc/datasets/statfiles/1609/160930_NB501273_0035_AHLWTGBGXY\n",
      "\n",
      "/ypool/bulk/fa2k/nsc/datasets/statfiles/1609/160930_NS500336_0145_AHLYFGBGXY\n",
      "\n",
      "/ypool/bulk/fa2k/nsc/datasets/statfiles/1611/161108_E00401_0030_AH3M2YALXX\n",
      "\n",
      "/ypool/bulk/fa2k/nsc/datasets/statfiles/1611/161108_E00401_0031_BH5KWMALXX\n",
      "\n",
      "/ypool/bulk/fa2k/nsc/datasets/statfiles/1611/161109_M01132_0160_000000000-AU4YD\n",
      "\n",
      "/ypool/bulk/fa2k/nsc/datasets/statfiles/1611/161109_NS500336_0147_AHLYCWBGXY\n",
      "\n",
      "/ypool/bulk/fa2k/nsc/datasets/statfiles/1611/161111_M02980_0075_000000000-AKJ0D\n",
      "\n",
      "/ypool/bulk/fa2k/nsc/datasets/statfiles/1611/161114_M01132_0161_000000000-AU53N\n",
      "\n",
      "/ypool/bulk/fa2k/nsc/datasets/statfiles/1611/161115_M02980_0076_000000000-ARU86\n",
      "\n",
      "/ypool/bulk/fa2k/nsc/datasets/statfiles/1611/161117_D00132_0211_ACA33MANXX\n",
      "\n",
      "/ypool/bulk/fa2k/nsc/datasets/statfiles/1611/161117_M01334_0110_000000000-AW9B0\n",
      "\n",
      "/ypool/bulk/fa2k/nsc/datasets/statfiles/1611/161117_NB501273_0036_AHN3TNBGXY\n",
      "\n",
      "/ypool/bulk/fa2k/nsc/datasets/statfiles/1611/161118_E00401_0032_AH5KNTALXX\n",
      "\n",
      "/ypool/bulk/fa2k/nsc/datasets/statfiles/1611/161123_NB501273_0037_AHN3TJBGXY\n",
      "\n",
      "/ypool/bulk/fa2k/nsc/datasets/statfiles/1611/161123_NS500336_0148_AHMW7CBGXY\n",
      "\n",
      "/ypool/bulk/fa2k/nsc/datasets/statfiles/1611/161124_D00132_0212_AC9U3PANXX\n",
      "\n",
      "/ypool/bulk/fa2k/nsc/datasets/statfiles/1611/161124_E00396_0006_AH3M5CALXX\n",
      "\n",
      "/ypool/bulk/fa2k/nsc/datasets/statfiles/1611/161124_E00396_0007_BHCM2NALXX\n",
      "\n",
      "/ypool/bulk/fa2k/nsc/datasets/statfiles/1611/161125_J00146_0012_AHGLNFBBXX\n",
      "\n",
      "/ypool/bulk/fa2k/nsc/datasets/statfiles/1612/161201_M01132_0163_000000000-AU4UC\n",
      "\n",
      "/ypool/bulk/fa2k/nsc/datasets/statfiles/1612/161201_M01334_0111_000000000-AT0A7\n",
      "\n",
      "/ypool/bulk/fa2k/nsc/datasets/statfiles/1612/161201_M02980_0077_000000000-AKMWW\n",
      "\n",
      "/ypool/bulk/fa2k/nsc/datasets/statfiles/1612/161201_NB501273_0038_AHHMJGAFXX\n",
      "\n",
      "/ypool/bulk/fa2k/nsc/datasets/statfiles/1612/161201_NS500336_0149_AHLJJ7BGXY\n",
      "\n",
      "/ypool/bulk/fa2k/nsc/datasets/statfiles/1612/161202_J00146_0013_AHGLMGBBXX\n",
      "\n",
      "/ypool/bulk/fa2k/nsc/datasets/statfiles/1612/161208_D00132_0213_ACAAR6ANXX\n",
      "\n",
      "/ypool/bulk/fa2k/nsc/datasets/statfiles/1612/161208_D00132_0214_BCAC1DANXX\n",
      "\n",
      "/ypool/bulk/fa2k/nsc/datasets/statfiles/1612/161209_NS500336_0150_AHLWNHBGXY\n",
      "\n",
      "/ypool/bulk/fa2k/nsc/datasets/statfiles/1612/161213_M02980_0078_000000000-AW2CE\n",
      "\n",
      "/ypool/bulk/fa2k/nsc/datasets/statfiles/1612/161214_NB501273_0039_AHLWTTBGXY\n",
      "\n",
      "/ypool/bulk/fa2k/nsc/datasets/statfiles/1612/161216_E00423_0009_BHCKVYALXX\n",
      "\n",
      "/ypool/bulk/fa2k/nsc/datasets/statfiles/1612/161216_E00423_0010_AH7MKWALXX\n",
      "\n",
      "/ypool/bulk/fa2k/nsc/datasets/statfiles/1612/161216_J00146_0014_AH7YM2BBXX\n",
      "\n",
      "/ypool/bulk/fa2k/nsc/datasets/statfiles/1612/161219_E00396_0009_AHCKWNALXX\n",
      "\n",
      "/ypool/bulk/fa2k/nsc/datasets/statfiles/1612/161219_J00146_0015_AH7YLKBBXX\n",
      "\n",
      "/ypool/bulk/fa2k/nsc/datasets/statfiles/1612/161219_M01132_0164_000000000-AKMTH\n",
      "\n",
      "/ypool/bulk/fa2k/nsc/datasets/statfiles/1612/161219_M01334_0112_000000000-ARV4F\n",
      "\n",
      "/ypool/bulk/fa2k/nsc/datasets/statfiles/1612/161219_NB501273_0040_AHMJLGBGXY\n",
      "\n",
      "/ypool/bulk/fa2k/nsc/datasets/statfiles/1612/161220_D00132_0215_AH73KMBCXY\n",
      "\n",
      "/ypool/bulk/fa2k/nsc/datasets/statfiles/1612/161220_M02980_0079_000000000-AKJVG\n",
      "\n",
      "/ypool/bulk/fa2k/nsc/datasets/statfiles/1612/161220_NB501273_0041_AHTKTYBGXY\n",
      "\n",
      "/ypool/bulk/fa2k/nsc/datasets/statfiles/1612/161220_NS500336_0152_AHTKLHBGXY\n",
      "\n",
      "/ypool/bulk/fa2k/nsc/datasets/statfiles/1612/161221_D00132_0216_BH73KCBCXY\n",
      "\n",
      "/ypool/bulk/fa2k/nsc/datasets/statfiles/1612/161221_M01132_0166_000000000-AKMT8\n",
      "\n",
      "/ypool/bulk/fa2k/nsc/datasets/statfiles/1612/161223_M01132_0167_000000000-ARU23\n",
      "\n",
      "/ypool/bulk/fa2k/nsc/datasets/statfiles/1612/161223_M01334_0113_000000000-AWLW4\n",
      "\n",
      "/ypool/bulk/fa2k/nsc/datasets/statfiles/1612/161223_M02980_0080_000000000-AUKN8\n",
      "\n",
      "/ypool/bulk/fa2k/nsc/datasets/statfiles/1612/161228_D00132_0217_ACAJEMANXX\n",
      "\n",
      "/ypool/bulk/fa2k/nsc/datasets/statfiles/1612/161228_E00396_0010_BHCJ5CALXX\n",
      "\n",
      "/ypool/bulk/fa2k/nsc/datasets/statfiles/1612/161228_E00426_0008_AHCK2KALXX\n",
      "\n",
      "/ypool/bulk/fa2k/nsc/datasets/statfiles/1701/170102_NS500336_0153_AHTCJVBGXY\n",
      "\n",
      "/ypool/bulk/fa2k/nsc/datasets/statfiles/1701/170106_E00426_0010_BHCKYGALXX\n",
      "\n",
      "/ypool/bulk/fa2k/nsc/datasets/statfiles/1701/170111_D00132_0218_ACAHFEANXX\n",
      "\n",
      "/ypool/bulk/fa2k/nsc/datasets/statfiles/1701/170111_M01334_0114_000000000-AKMNG\n",
      "\n",
      "/ypool/bulk/fa2k/nsc/datasets/statfiles/1701/170112_M01132_0170_000000000-AKJHN\n",
      "\n",
      "/ypool/bulk/fa2k/nsc/datasets/statfiles/1701/170112_NS500336_0154_AHTCKCBGXY\n",
      "\n",
      "/ypool/bulk/fa2k/nsc/datasets/statfiles/1701/170113_NB501273_0042_AHTKM2BGXY\n",
      "\n",
      "/ypool/bulk/fa2k/nsc/datasets/statfiles/1701/170113_NS500336_0155_AHTCTTBGXY\n",
      "\n",
      "/ypool/bulk/fa2k/nsc/datasets/statfiles/1701/170119_E00426_0011_AHCJFHALXX\n",
      "\n",
      "/ypool/bulk/fa2k/nsc/datasets/statfiles/1701/170119_NB501273_0043_AHMVTLBGXY\n",
      "\n",
      "/ypool/bulk/fa2k/nsc/datasets/statfiles/1701/170119_NB501273_0043_AHMVTLBGXY_new\n",
      "\n",
      "/ypool/bulk/fa2k/nsc/datasets/statfiles/1701/170120_D00132_0219_ACAHHAANXX\n",
      "\n",
      "/ypool/bulk/fa2k/nsc/datasets/statfiles/1701/170120_M01334_0115_000000000-B2GNY\n",
      "\n",
      "/ypool/bulk/fa2k/nsc/datasets/statfiles/1701/170120_NS500336_0156_AHTNWJBGXY\n",
      "\n",
      "/ypool/bulk/fa2k/nsc/datasets/statfiles/1701/170123_NS500336_0157_AHTTWFBGXY\n",
      "\n",
      "/ypool/bulk/fa2k/nsc/datasets/statfiles/1701/170124_M02980_0081_000000000-AY256\n",
      "\n",
      "/ypool/bulk/fa2k/nsc/datasets/statfiles/1701/170124_NB501273_0044_AHTTVNBGXY\n",
      "\n",
      "/ypool/bulk/fa2k/nsc/datasets/statfiles/1701/170125_NB501273_0045_AHWMYVBGXY\n",
      "\n",
      "/ypool/bulk/fa2k/nsc/datasets/statfiles/1701/170126_M01132_0171_000000000-AV6VH\n",
      "\n",
      "/ypool/bulk/fa2k/nsc/datasets/statfiles/1701/170126_NB501273_0046_AH5NFWBGX2\n",
      "\n",
      "/ypool/bulk/fa2k/nsc/datasets/statfiles/1701/170127_D00132_0220_ACAHFDANXX\n",
      "\n",
      "/ypool/bulk/fa2k/nsc/datasets/statfiles/1701/170127_M02980_0082_000000000-AKJHM\n",
      "\n",
      "/ypool/bulk/fa2k/nsc/datasets/statfiles/1701/170127_NB501273_0047_AHJ23JAFXX\n",
      "\n",
      "/ypool/bulk/fa2k/nsc/datasets/statfiles/1701/170130_NB501273_0048_AHY2TKBGXY\n",
      "\n",
      "/ypool/bulk/fa2k/nsc/datasets/statfiles/1702/170201_M01132_0172_000000000-D28KN\n",
      "\n",
      "/ypool/bulk/fa2k/nsc/datasets/statfiles/1702/170201_NB501273_0049_AH777LBGX2\n",
      "\n",
      "/ypool/bulk/fa2k/nsc/datasets/statfiles/1702/170201_NS500336_0159_AH5KKVBGX2\n",
      "\n",
      "/ypool/bulk/fa2k/nsc/datasets/statfiles/1702/170202_NB501273_0050_AH5MLJBGX2\n",
      "\n",
      "/ypool/bulk/fa2k/nsc/datasets/statfiles/1702/170202_NS500336_0160_AH5KKKBGX2\n",
      "\n",
      "/ypool/bulk/fa2k/nsc/datasets/statfiles/1702/170203_J00146_0016_AH7YWJBBXX\n",
      "\n",
      "/ypool/bulk/fa2k/nsc/datasets/statfiles/1702/170203_NB501273_0051_AH73V7BGX2\n",
      "\n",
      "/ypool/bulk/fa2k/nsc/datasets/statfiles/1702/170203_NS500336_0161_AH5L3JBGX2\n",
      "\n",
      "/ypool/bulk/fa2k/nsc/datasets/statfiles/1702/170206_NB501273_0052_AH5K35BGX2\n",
      "\n",
      "/ypool/bulk/fa2k/nsc/datasets/statfiles/1702/170206_NS500336_0162_AH5L2NBGX2\n",
      "\n"
     ]
    }
   ],
   "source": [
    "for x = runs\n",
    "    println(x)\n",
    "end\n",
    "for y = runs\n",
    "    println(\"foo\")\n",
    "end"
   ]
  },
  {
   "cell_type": "code",
   "execution_count": 10,
   "metadata": {
    "collapsed": false
   },
   "outputs": [
    {
     "name": "stdout",
     "output_type": "stream",
     "text": [
      "search: \u001b[1mr\u001b[22m\u001b[1me\u001b[22m\u001b[1mp\u001b[22m\u001b[1ml\u001b[22m\u001b[1ma\u001b[22m\u001b[1mc\u001b[22m\u001b[1me\u001b[22m \u001b[1mr\u001b[22m\u001b[1me\u001b[22mdis\u001b[1mp\u001b[22m\u001b[1ml\u001b[22m\u001b[1ma\u001b[22my\n",
      "\n"
     ]
    },
    {
     "data": {
      "text/markdown": [
       "```\n",
       "replace(string, pat, r[, n])\n",
       "```\n",
       "\n",
       "Search for the given pattern `pat`, and replace each occurrence with `r`. If `n` is provided, replace at most `n` occurrences. As with search, the second argument may be a single character, a vector or a set of characters, a string, or a regular expression. If `r` is a function, each occurrence is replaced with `r(s)` where `s` is the matched substring. If `pat` is a regular expression and `r` is a `SubstitutionString`, then capture group references in `r` are replaced with the corresponding matched text.\n"
      ],
      "text/plain": [
       "```\n",
       "replace(string, pat, r[, n])\n",
       "```\n",
       "\n",
       "Search for the given pattern `pat`, and replace each occurrence with `r`. If `n` is provided, replace at most `n` occurrences. As with search, the second argument may be a single character, a vector or a set of characters, a string, or a regular expression. If `r` is a function, each occurrence is replaced with `r(s)` where `s` is the matched substring. If `pat` is a regular expression and `r` is a `SubstitutionString`, then capture group references in `r` are replaced with the corresponding matched text.\n"
      ]
     },
     "execution_count": 10,
     "metadata": {},
     "output_type": "execute_result"
    }
   ],
   "source": [
    "?replace"
   ]
  },
  {
   "cell_type": "code",
   "execution_count": null,
   "metadata": {
    "collapsed": true
   },
   "outputs": [],
   "source": []
  }
 ],
 "metadata": {
  "kernelspec": {
   "display_name": "Julia 0.4.7",
   "language": "julia",
   "name": "julia-0.4"
  },
  "language_info": {
   "file_extension": ".jl",
   "mimetype": "application/julia",
   "name": "julia",
   "version": "0.4.7"
  }
 },
 "nbformat": 4,
 "nbformat_minor": 0
}
