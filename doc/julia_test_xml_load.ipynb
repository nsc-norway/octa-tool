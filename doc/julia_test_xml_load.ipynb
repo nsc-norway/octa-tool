{
 "cells": [
  {
   "cell_type": "code",
   "execution_count": 3,
   "metadata": {
    "collapsed": true
   },
   "outputs": [],
   "source": [
    "# Julia test\n",
    "\n",
    "# Pkg.add(\"XMLDict\")"
   ]
  },
  {
   "cell_type": "code",
   "execution_count": 9,
   "metadata": {
    "collapsed": false
   },
   "outputs": [
    {
     "name": "stdout",
     "output_type": "stream",
     "text": [
      "F: 28326"
     ]
    }
   ],
   "source": [
    "file_path = \"/home/fa2k/nsc/statfiles/170111_D00132_0218_ACAHFEANXX/Data/Intensities/BaseCalls/Stats/DemultiplexingStats.xml\"\n",
    "my_data = readall(file_path)\n",
    "len = length(my_data)\n",
    "print(\"F: $len\")"
   ]
  },
  {
   "cell_type": "code",
   "execution_count": 37,
   "metadata": {
    "collapsed": false
   },
   "outputs": [
    {
     "name": "stderr",
     "output_type": "stream",
     "text": [
      "INFO: Nothing to be done\n"
     ]
    }
   ],
   "source": [
    "Pkg.add(\"XMLDict\")"
   ]
  },
  {
   "cell_type": "code",
   "execution_count": 38,
   "metadata": {
    "collapsed": false
   },
   "outputs": [],
   "source": [
    "using XMLDict"
   ]
  },
  {
   "cell_type": "code",
   "execution_count": 39,
   "metadata": {
    "collapsed": false
   },
   "outputs": [
    {
     "name": "stdout",
     "output_type": "stream",
     "text": [
      "  "
     ]
    },
    {
     "ename": "MethodError",
     "evalue": "MethodError: `length` has no method matching length(::XMLDict.XMLDictElement)",
     "output_type": "error",
     "traceback": [
      "MethodError: `length` has no method matching length(::XMLDict.XMLDictElement)",
      "",
      " in == at ./dict.jl:259"
     ]
    },
    {
     "name": "stdout",
     "output_type": "stream",
     "text": [
      "0.000627 seconds (6 allocations: 384 bytes)\n"
     ]
    }
   ],
   "source": [
    "@time data = parse_xml(my_data)"
   ]
  },
  {
   "cell_type": "markdown",
   "metadata": {
    "collapsed": true
   },
   "source": [
    "## Number of reads and index per sample\n",
    "\n",
    "Data structure: Coordinates = (lane, index)\n"
   ]
  },
  {
   "cell_type": "code",
   "execution_count": 40,
   "metadata": {
    "collapsed": false
   },
   "outputs": [
    {
     "name": "stdout",
     "output_type": "stream",
     "text": [
      "unknownunknown"
     ]
    },
    {
     "ename": "LoadError",
     "evalue": "LoadError: MethodError: `start` has no method matching start(::XMLDict.XMLDictElement)\nwhile loading In[40], in expression starting on line 3",
     "output_type": "error",
     "traceback": [
      "LoadError: MethodError: `start` has no method matching start(::XMLDict.XMLDictElement)\nwhile loading In[40], in expression starting on line 3",
      "",
      " [inlined code] from ./In[40]:5",
      " in anonymous at ./no file:4294967295"
     ]
    },
    {
     "name": "stdout",
     "output_type": "stream",
     "text": [
      "unknownunknownunknownunknownunknownunknownallallallallallallallall"
     ]
    }
   ],
   "source": [
    "num_reads = Dict()\n",
    "\n",
    "for project = data[\"Flowcell\"][\"Project\"]\n",
    "    for sample = project[\"Sample\"]\n",
    "        for barcode = sample[\"Barcode\"]\n",
    "            barcode_name = barcode[:name]\n",
    "            for lane = barcode[\"Lane\"]\n",
    "                lane_num = parse(Int, lane[:number])\n",
    "                print(barcode_name)\n",
    "                count = get(num_reads, (lane_num, barcode_name), 0)\n",
    "                num_reads[(lane_num, barcode_name)] = count + 1\n",
    "            end\n",
    "        end\n",
    "    end\n",
    "end"
   ]
  },
  {
   "cell_type": "code",
   "execution_count": 28,
   "metadata": {
    "collapsed": false
   },
   "outputs": [
    {
     "data": {
      "text/plain": [
       "Dict{Any,Any} with 16 entries:\n",
       "  (4,\"all\")     => 1\n",
       "  (8,\"unknown\") => 1\n",
       "  (1,\"unknown\") => 1\n",
       "  (3,\"all\")     => 1\n",
       "  (2,\"all\")     => 1\n",
       "  (6,\"unknown\") => 1\n",
       "  (7,\"unknown\") => 1\n",
       "  (2,\"unknown\") => 1\n",
       "  (8,\"all\")     => 1\n",
       "  (4,\"unknown\") => 1\n",
       "  (3,\"unknown\") => 1\n",
       "  (1,\"all\")     => 1\n",
       "  (5,\"all\")     => 1\n",
       "  (5,\"unknown\") => 1\n",
       "  (6,\"all\")     => 1\n",
       "  (7,\"all\")     => 1"
      ]
     },
     "execution_count": 28,
     "metadata": {},
     "output_type": "execute_result"
    }
   ],
   "source": [
    "num_reads"
   ]
  },
  {
   "cell_type": "markdown",
   "metadata": {},
   "source": [
    "## LibExpat version"
   ]
  },
  {
   "cell_type": "code",
   "execution_count": 35,
   "metadata": {
    "collapsed": false
   },
   "outputs": [
    {
     "name": "stderr",
     "output_type": "stream",
     "text": [
      "INFO: Updating METADATA...\n",
      "INFO: Computing changes...\n",
      "INFO: No packages to install, update or remove\n"
     ]
    }
   ],
   "source": [
    "Pkg.update()"
   ]
  },
  {
   "cell_type": "code",
   "execution_count": 36,
   "metadata": {
    "collapsed": false
   },
   "outputs": [
    {
     "name": "stderr",
     "output_type": "stream",
     "text": [
      "INFO: Nothing to be done\n"
     ]
    }
   ],
   "source": [
    "Pkg.add(\"LibExpat\")"
   ]
  },
  {
   "cell_type": "code",
   "execution_count": 30,
   "metadata": {
    "collapsed": true
   },
   "outputs": [],
   "source": [
    "using LibExpat"
   ]
  },
  {
   "cell_type": "code",
   "execution_count": 33,
   "metadata": {
    "collapsed": false
   },
   "outputs": [
    {
     "name": "stdout",
     "output_type": "stream",
     "text": [
      "  0.003265 seconds (17.04 k allocations: 1.134 MB)\n"
     ]
    }
   ],
   "source": [
    "@time xmltree = xp_parse(my_data);"
   ]
  },
  {
   "cell_type": "code",
   "execution_count": 109,
   "metadata": {
    "collapsed": false
   },
   "outputs": [
    {
     "data": {
      "text/plain": [
       "40-element Array{LibExpat.ETree,1}:\n",
       " <PerfectBarcodeCount>8437774</PerfectBarcodeCount> \n",
       " <PerfectBarcodeCount>7623996</PerfectBarcodeCount> \n",
       " <PerfectBarcodeCount>7518344</PerfectBarcodeCount> \n",
       " <PerfectBarcodeCount>7746829</PerfectBarcodeCount> \n",
       " <PerfectBarcodeCount>8306579</PerfectBarcodeCount> \n",
       " <PerfectBarcodeCount>7302641</PerfectBarcodeCount> \n",
       " <PerfectBarcodeCount>7132213</PerfectBarcodeCount> \n",
       " <PerfectBarcodeCount>6958048</PerfectBarcodeCount> \n",
       " <PerfectBarcodeCount>36748469</PerfectBarcodeCount>\n",
       " <PerfectBarcodeCount>37728080</PerfectBarcodeCount>\n",
       " <PerfectBarcodeCount>39215881</PerfectBarcodeCount>\n",
       " <PerfectBarcodeCount>39202890</PerfectBarcodeCount>\n",
       " <PerfectBarcodeCount>36279342</PerfectBarcodeCount>\n",
       " ⋮                                                  \n",
       " <PerfectBarcodeCount>36931856</PerfectBarcodeCount>\n",
       " <PerfectBarcodeCount>37323427</PerfectBarcodeCount>\n",
       " <PerfectBarcodeCount>40182541</PerfectBarcodeCount>\n",
       " <PerfectBarcodeCount>30420986</PerfectBarcodeCount>\n",
       " <PerfectBarcodeCount>35691505</PerfectBarcodeCount>\n",
       " <PerfectBarcodeCount>34738705</PerfectBarcodeCount>\n",
       " <PerfectBarcodeCount>37129198</PerfectBarcodeCount>\n",
       " <PerfectBarcodeCount>35920982</PerfectBarcodeCount>\n",
       " <PerfectBarcodeCount>40435899</PerfectBarcodeCount>\n",
       " <PerfectBarcodeCount>35177259</PerfectBarcodeCount>\n",
       " <PerfectBarcodeCount>40408388</PerfectBarcodeCount>\n",
       " <PerfectBarcodeCount>40598899</PerfectBarcodeCount>"
      ]
     },
     "execution_count": 109,
     "metadata": {},
     "output_type": "execute_result"
    }
   ],
   "source": [
    "mismatch_xpath = \"Flowcell/Project[@name != \\\"all\\\"]/Sample/Barcode[@name != \\\"all\\\"]/Lane/BarcodeCount\"\n",
    "mismatch_results = xmltree[mismatch_xpath]\n",
    "perfect_xpath = \"Flowcell/Project[@name != \\\"all\\\"]/Sample/Barcode[@name != \\\"all\\\"]/Lane/PerfectBarcodeCount\"\n",
    "perfect_results = xmltree[perfect_xpath]"
   ]
  },
  {
   "cell_type": "code",
   "execution_count": 110,
   "metadata": {
    "collapsed": false
   },
   "outputs": [],
   "source": [
    "read_counts = Dict()\n",
    "perfect_read_counts = Dict()\n",
    "\n",
    "for res = mismatch_results\n",
    "    lane = parse(Int,res.parent.attr[\"number\"])\n",
    "    barcode = res.parent.parent.attr[\"name\"]\n",
    "    \n",
    "    read_counts[(lane, barcode)] = parse(Int64, res.elements[1])\n",
    "end"
   ]
  },
  {
   "cell_type": "code",
   "execution_count": 111,
   "metadata": {
    "collapsed": false
   },
   "outputs": [
    {
     "data": {
      "text/plain": [
       "Dict{Any,Any} with 40 entries:\n",
       "  (2,\"CCGAAGTA\") => 37356133\n",
       "  (1,\"AGGCTAAC\") => 39992995\n",
       "  (2,\"CGCATACA\") => 31647030\n",
       "  (6,\"AATCCGTC\") => 31093897\n",
       "  (8,\"ACACAGAA\") => 41194726\n",
       "  (3,\"AAGAGATC\") => 41398836\n",
       "  (8,\"unknown\")  => 6958048\n",
       "  (1,\"unknown\")  => 8437774\n",
       "  (1,\"CTCAATGA\") => 37369606\n",
       "  (2,\"AGATGTAC\") => 37017974\n",
       "  (3,\"AATGTTGC\") => 44894096\n",
       "  (3,\"AGATCGCA\") => 35033696\n",
       "  (8,\"GAACAGGC\") => 36034893\n",
       "  (8,\"AACCGAGA\") => 41106212\n",
       "  (4,\"TGGAACAA\") => 36750785\n",
       "  (6,\"unknown\")  => 7302641\n",
       "  (7,\"AAGACGGA\") => 36506769\n",
       "  (7,\"unknown\")  => 7132213\n",
       "  (7,\"CACCTTAC\") => 37752922\n",
       "  (4,\"CAACCACA\") => 39787285\n",
       "  (2,\"unknown\")  => 7623996\n",
       "  (4,\"ACAGATTC\") => 40467000\n",
       "  (6,\"AACAACCA\") => 40785672\n",
       "  (7,\"TTCACGCA\") => 35412455\n",
       "  (8,\"ACAAGCTA\") => 41380292\n",
       "  ⋮              => ⋮"
      ]
     },
     "execution_count": 111,
     "metadata": {},
     "output_type": "execute_result"
    }
   ],
   "source": [
    "read_counts"
   ]
  },
  {
   "cell_type": "code",
   "execution_count": 3,
   "metadata": {
    "collapsed": false
   },
   "outputs": [
    {
     "name": "stdout",
     "output_type": "stream",
     "text": [
      "search: "
     ]
    },
    {
     "data": {
      "text/latex": [
       "\\begin{verbatim}\n",
       "..  Dict([itr])\n",
       "\n",
       "``Dict{K,V}()`` constructs a hash table with keys of type ``K`` and values of type ``V``.\n",
       "\n",
       "Given a single iterable argument, constructs a :obj:`Dict` whose key-value pairs\n",
       "are taken from 2-tuples ``(key,value)`` generated by the argument.\n",
       "\n",
       ".. doctest::\n",
       "\n",
       "  julia> Dict([(\"A\", 1), (\"B\", 2)])\n",
       "  Dict{ASCIIString,Int64} with 2 entries:\n",
       "    \"B\" => 2\n",
       "    \"A\" => 1\n",
       "\n",
       "Alternatively, a sequence of pair arguments may be passed.\n",
       "\n",
       ".. doctest::\n",
       "\n",
       "  julia> Dict(\"A\"=>1, \"B\"=>2)\n",
       "  Dict{ASCIIString,Int64} with 2 entries:\n",
       "    \"B\" => 2\n",
       "    \"A\" => 1\n",
       "\\end{verbatim}\n"
      ],
      "text/markdown": [
       "```rst\n",
       "..  Dict([itr])\n",
       "\n",
       "``Dict{K,V}()`` constructs a hash table with keys of type ``K`` and values of type ``V``.\n",
       "\n",
       "Given a single iterable argument, constructs a :obj:`Dict` whose key-value pairs\n",
       "are taken from 2-tuples ``(key,value)`` generated by the argument.\n",
       "\n",
       ".. doctest::\n",
       "\n",
       "  julia> Dict([(\"A\", 1), (\"B\", 2)])\n",
       "  Dict{ASCIIString,Int64} with 2 entries:\n",
       "    \"B\" => 2\n",
       "    \"A\" => 1\n",
       "\n",
       "Alternatively, a sequence of pair arguments may be passed.\n",
       "\n",
       ".. doctest::\n",
       "\n",
       "  julia> Dict(\"A\"=>1, \"B\"=>2)\n",
       "  Dict{ASCIIString,Int64} with 2 entries:\n",
       "    \"B\" => 2\n",
       "    \"A\" => 1\n",
       "```\n"
      ],
      "text/plain": [
       "```rst\n",
       "..  Dict([itr])\n",
       "\n",
       "``Dict{K,V}()`` constructs a hash table with keys of type ``K`` and values of type ``V``.\n",
       "\n",
       "Given a single iterable argument, constructs a :obj:`Dict` whose key-value pairs\n",
       "are taken from 2-tuples ``(key,value)`` generated by the argument.\n",
       "\n",
       ".. doctest::\n",
       "\n",
       "  julia> Dict([(\"A\", 1), (\"B\", 2)])\n",
       "  Dict{ASCIIString,Int64} with 2 entries:\n",
       "    \"B\" => 2\n",
       "    \"A\" => 1\n",
       "\n",
       "Alternatively, a sequence of pair arguments may be passed.\n",
       "\n",
       ".. doctest::\n",
       "\n",
       "  julia> Dict(\"A\"=>1, \"B\"=>2)\n",
       "  Dict{ASCIIString,Int64} with 2 entries:\n",
       "    \"B\" => 2\n",
       "    \"A\" => 1\n",
       "```\n"
      ]
     },
     "execution_count": 3,
     "metadata": {},
     "output_type": "execute_result"
    },
    {
     "name": "stdout",
     "output_type": "stream",
     "text": [
      "Dict DirectIndexString WeakKeyDict redirect_stdin redirect_stdout\n",
      "\n"
     ]
    }
   ],
   "source": [
    "?Dict"
   ]
  },
  {
   "cell_type": "code",
   "execution_count": 11,
   "metadata": {
    "collapsed": false
   },
   "outputs": [
    {
     "data": {
      "text/plain": [
       "\"lamer\""
      ]
     },
     "execution_count": 11,
     "metadata": {},
     "output_type": "execute_result"
    }
   ],
   "source": [
    "a = Dict()\n",
    "a[\"lol\"] = \"lamer\""
   ]
  },
  {
   "cell_type": "code",
   "execution_count": 12,
   "metadata": {
    "collapsed": false
   },
   "outputs": [
    {
     "data": {
      "text/plain": [
       "Base.KeyIterator for a Dict{Any,Any} with 1 entry. Keys:\n",
       "  \"lol\""
      ]
     },
     "execution_count": 12,
     "metadata": {},
     "output_type": "execute_result"
    }
   ],
   "source": [
    "keys(a)"
   ]
  },
  {
   "cell_type": "code",
   "execution_count": 13,
   "metadata": {
    "collapsed": false
   },
   "outputs": [
    {
     "data": {
      "text/plain": [
       "\"lol\""
      ]
     },
     "execution_count": 13,
     "metadata": {},
     "output_type": "execute_result"
    }
   ],
   "source": [
    "first(keys(a))"
   ]
  },
  {
   "cell_type": "code",
   "execution_count": 17,
   "metadata": {
    "collapsed": false
   },
   "outputs": [
    {
     "data": {
      "text/plain": [
       "Set{Any}()"
      ]
     },
     "execution_count": 17,
     "metadata": {},
     "output_type": "execute_result"
    }
   ],
   "source": [
    "foo = Set()"
   ]
  },
  {
   "cell_type": "code",
   "execution_count": 1,
   "metadata": {
    "collapsed": false
   },
   "outputs": [
    {
     "name": "stdout",
     "output_type": "stream",
     "text": [
      "search: "
     ]
    },
    {
     "data": {
      "text/latex": [
       "\\begin{verbatim}\n",
       "map(f, c...) -> collection\n",
       "\\end{verbatim}\n",
       "Transform collection \\texttt{c} by applying \\texttt{f} to each element. For multiple collection arguments, apply \\texttt{f} elementwise.\n",
       "\\begin{verbatim}\n",
       "julia> map((x) -> x * 2, [1, 2, 3])\n",
       "3-element Array{Int64,1}:\n",
       " 2\n",
       " 4\n",
       " 6\n",
       "\n",
       "julia> map(+, [1, 2, 3], [10, 20, 30])\n",
       "3-element Array{Int64,1}:\n",
       " 11\n",
       " 22\n",
       " 33\n",
       "\\end{verbatim}\n"
      ],
      "text/markdown": [
       "```\n",
       "map(f, c...) -> collection\n",
       "```\n",
       "\n",
       "Transform collection `c` by applying `f` to each element. For multiple collection arguments, apply `f` elementwise.\n",
       "\n",
       "```jldoctest\n",
       "julia> map((x) -> x * 2, [1, 2, 3])\n",
       "3-element Array{Int64,1}:\n",
       " 2\n",
       " 4\n",
       " 6\n",
       "\n",
       "julia> map(+, [1, 2, 3], [10, 20, 30])\n",
       "3-element Array{Int64,1}:\n",
       " 11\n",
       " 22\n",
       " 33\n",
       "```\n"
      ],
      "text/plain": [
       "```\n",
       "map(f, c...) -> collection\n",
       "```\n",
       "\n",
       "Transform collection `c` by applying `f` to each element. For multiple collection arguments, apply `f` elementwise.\n",
       "\n",
       "```jldoctest\n",
       "julia> map((x) -> x * 2, [1, 2, 3])\n",
       "3-element Array{Int64,1}:\n",
       " 2\n",
       " 4\n",
       " 6\n",
       "\n",
       "julia> map(+, [1, 2, 3], [10, 20, 30])\n",
       "3-element Array{Int64,1}:\n",
       " 11\n",
       " 22\n",
       " 33\n",
       "```\n"
      ]
     },
     "execution_count": 1,
     "metadata": {},
     "output_type": "execute_result"
    },
    {
     "name": "stdout",
     "output_type": "stream",
     "text": [
      "map map! mapfoldr mapfoldl mapslices mapreduce mapreducedim pmap mmap\n",
      "\n"
     ]
    }
   ],
   "source": [
    "?map"
   ]
  },
  {
   "cell_type": "code",
   "execution_count": 31,
   "metadata": {
    "collapsed": false
   },
   "outputs": [
    {
     "data": {
      "text/plain": [
       "3-element Array{Int64,1}:\n",
       " 1\n",
       " 2\n",
       " 3"
      ]
     },
     "execution_count": 31,
     "metadata": {},
     "output_type": "execute_result"
    }
   ],
   "source": [
    "[x for x = [1,2,3]]"
   ]
  },
  {
   "cell_type": "code",
   "execution_count": null,
   "metadata": {
    "collapsed": true
   },
   "outputs": [],
   "source": []
  }
 ],
 "metadata": {
  "anaconda-cloud": {},
  "kernelspec": {
   "display_name": "Julia 0.4.7",
   "language": "julia",
   "name": "julia-0.4"
  },
  "language_info": {
   "file_extension": ".jl",
   "mimetype": "application/julia",
   "name": "julia",
   "version": "0.4.7"
  }
 },
 "nbformat": 4,
 "nbformat_minor": 1
}
