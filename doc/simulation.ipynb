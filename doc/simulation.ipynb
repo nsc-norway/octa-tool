{
 "cells": [
  {
   "cell_type": "markdown",
   "metadata": {},
   "source": [
    "# Simulation"
   ]
  },
  {
   "cell_type": "code",
   "execution_count": 2,
   "metadata": {
    "collapsed": false
   },
   "outputs": [],
   "source": [
    "indexes = [\n",
    "    (\"A\",\"1\"), (\"B\",\"1\"), (\"C\", \"1\"),\n",
    "    (\"A\",\"2\"),            (\"C\", \"2\"),\n",
    "    (\"A\",\"3\"), (\"B\",\"3\"), (\"C\", \"3\"),\n",
    "    (\"A\",\"4\"), (\"B\",\"4\"),\n",
    "];"
   ]
  },
  {
   "cell_type": "markdown",
   "metadata": {},
   "source": [
    "### Simulate number of reads\n",
    "This assumes that the index1 and index2 mis-assignment probabilities are independent.  Wright and Vetsigian found a higher probability than expected for independent variables:\n",
    "\n",
    "|||\n",
    "|-------------------|----------|\n",
    "|Incorrect i5      |  0.0604 % |\n",
    "|Incorrect i7      |  0.0955 % |\n",
    "|Incorrect sequence|  0.0872 % |\n",
    "|Multiple incorrect|  0.0003 % |\n",
    "\n",
    "We cannot detect sequence misassignments at all using demultiplexing data. As for the independence"
   ]
  },
  {
   "cell_type": "code",
   "execution_count": 3,
   "metadata": {
    "collapsed": false
   },
   "outputs": [
    {
     "data": {
      "text/plain": [
       "0.1111"
      ]
     },
     "execution_count": 3,
     "metadata": {},
     "output_type": "execute_result"
    }
   ],
   "source": [
    "# Modify these variables to change the simulation parameters\n",
    "\n",
    "sample_read_mean = 10e6\n",
    "sample_read_sd = sample_read_mean*0.5\n",
    "index1_misassign_rate = 0.00005\n",
    "index2_misassign_rate = 0.0001\n",
    "sequence_misassign_rate = 0.1111"
   ]
  },
  {
   "cell_type": "code",
   "execution_count": null,
   "metadata": {
    "collapsed": false
   },
   "outputs": [],
   "source": []
  },
  {
   "cell_type": "code",
   "execution_count": null,
   "metadata": {
    "collapsed": false
   },
   "outputs": [],
   "source": []
  },
  {
   "cell_type": "code",
   "execution_count": 18,
   "metadata": {
    "collapsed": false
   },
   "outputs": [],
   "source": [
    "true_sample_reads = Dict([index => randn()*sample_read_sd + sample_read_mean for index in indexes])   ;     "
   ]
  },
  {
   "cell_type": "code",
   "execution_count": 21,
   "metadata": {
    "collapsed": false
   },
   "outputs": [],
   "source": [
    "sim_known_sample_reads = Dict()\n",
    "sim_unknown_sample_reads = Dict()\n",
    "\n",
    "for index in indexes\n",
    "    # Generate all match-ups\n",
    "    total_reads = total_sample_reads[index]\n",
    "    i1, i2 = index\n",
    "    \n",
    "    \n",
    "end"
   ]
  },
  {
   "cell_type": "code",
   "execution_count": 16,
   "metadata": {
    "collapsed": false
   },
   "outputs": [
    {
     "ename": "LoadError",
     "evalue": "MethodError: no method matching +(::Dict{String,String}, ::Dict{String,String})\u001b[0m\nClosest candidates are:\n  +(::Any, ::Any, \u001b[1m\u001b[31m::Any\u001b[0m, \u001b[1m\u001b[31m::Any...\u001b[0m) at operators.jl:138\u001b[0m",
     "output_type": "error",
     "traceback": [
      "MethodError: no method matching +(::Dict{String,String}, ::Dict{String,String})\u001b[0m\nClosest candidates are:\n  +(::Any, ::Any, \u001b[1m\u001b[31m::Any\u001b[0m, \u001b[1m\u001b[31m::Any...\u001b[0m) at operators.jl:138\u001b[0m",
      ""
     ]
    }
   ],
   "source": []
  },
  {
   "cell_type": "markdown",
   "metadata": {},
   "source": [
    "### Setup for analysis"
   ]
  },
  {
   "cell_type": "code",
   "execution_count": 7,
   "metadata": {
    "collapsed": false
   },
   "outputs": [
    {
     "data": {
      "text/plain": [
       "2-element Array{Set{String},1}:\n",
       " Set(String[\"B\",\"A\",\"C\"])    \n",
       " Set(String[\"4\",\"1\",\"2\",\"3\"])"
      ]
     },
     "execution_count": 7,
     "metadata": {},
     "output_type": "execute_result"
    }
   ],
   "source": [
    "i1s = Set()\n",
    "sample_single_indexes = map(Set, zip(indexes...))"
   ]
  },
  {
   "cell_type": "code",
   "execution_count": null,
   "metadata": {
    "collapsed": true
   },
   "outputs": [],
   "source": []
  }
 ],
 "metadata": {
  "anaconda-cloud": {},
  "kernelspec": {
   "display_name": "Julia 0.4.7",
   "language": "julia",
   "name": "julia-0.4"
  },
  "language_info": {
   "file_extension": ".jl",
   "mimetype": "application/julia",
   "name": "julia",
   "version": "0.4.7"
  }
 },
 "nbformat": 4,
 "nbformat_minor": 2
}
