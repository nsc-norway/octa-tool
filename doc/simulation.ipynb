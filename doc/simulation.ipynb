{
 "cells": [
  {
   "cell_type": "markdown",
   "metadata": {},
   "source": [
    "# Simulation"
   ]
  },
  {
   "cell_type": "markdown",
   "metadata": {},
   "source": [
    "The goal of this notebook is to simulate the index mis-assignment encountered in sequencing, and validate the formulae used in the main program against the simulation truth."
   ]
  },
  {
   "cell_type": "code",
   "execution_count": 9,
   "metadata": {
    "collapsed": false
   },
   "outputs": [],
   "source": [
    "indexes = [\n",
    "    (\"A\",\"1\"), (\"B\",\"1\"), (\"C\", \"1\"),\n",
    "    (\"A\",\"2\"),            (\"C\", \"2\"),\n",
    "    (\"A\",\"3\"), (\"B\",\"3\"), (\"C\", \"3\"),\n",
    "    (\"A\",\"4\"), (\"B\",\"4\"),\n",
    "];"
   ]
  },
  {
   "cell_type": "markdown",
   "metadata": {},
   "source": [
    "### True number of reads\n",
    "This code generates a set of true"
   ]
  },
  {
   "cell_type": "code",
   "execution_count": 10,
   "metadata": {
    "collapsed": false
   },
   "outputs": [],
   "source": [
    "sample_read_mean = 10e6               # Number of reads\n",
    "sample_read_sd = sample_read_mean*0.5 # Statistical standard deviation (normal dist.)\n",
    "\n",
    "true_sample_reads = Dict([index => (randn()*sample_read_sd + sample_read_mean) for index = indexes]);"
   ]
  },
  {
   "cell_type": "markdown",
   "metadata": {},
   "source": [
    "### Simulate number of reads\n",
    "The code below generates read multiplicities for each index combination, in accordance with what would be expected for a set of mis-assignment probabilities. The simulation logic assumes that the index1 and index2 mis-assignment events are independent.  Wright and Vetsigian found a higher probability than what would be expected for independent variables, but the double mis-assignment rate is still very low -- negligible for practical purposes:\n",
    "\n",
    "|                  |              |\n",
    "|------------------|--------------|\n",
    "|Incorrect i5:     |   0.0604 %   |\n",
    "|Incorrect i7:     |   0.0955 %   |\n",
    "|Incorrect sequence|   0.0872 %   |\n",
    "|Multiple incorrect|   0.0003 %   |\n",
    "\n",
    "It is also notable that the i7 and i5 (respectively, the first and second index) mis-assignment rates are significantly different.\n",
    "\n",
    "We cannot detect sequence misassignments at all using demultiplexing data, and most double misassignments will not be detectable."
   ]
  },
  {
   "cell_type": "markdown",
   "metadata": {},
   "source": [
    "### Simulation parameters (part 2)"
   ]
  },
  {
   "cell_type": "code",
   "execution_count": 23,
   "metadata": {
    "collapsed": false
   },
   "outputs": [],
   "source": [
    "index1_misassign_rate = 0.0955 / 100.0\n",
    "index2_misassign_rate = 0.0604 / 100.0\n",
    "sequence_misassign_rate = 0.0872 / 100.0 ;"
   ]
  },
  {
   "cell_type": "markdown",
   "metadata": {
    "collapsed": false
   },
   "source": [
    "### Possible indexes in the soup\n",
    "The following arrays the read multiplicity of each single index in the data. I.e. if a sample has a large fraction of the reads, one expect the \"free\" indexes available for mis-assignment to also be relatively larger. Whether this is actually a valid model depends on the mechanism of mis-assigment."
   ]
  },
  {
   "cell_type": "code",
   "execution_count": 26,
   "metadata": {
    "collapsed": false
   },
   "outputs": [],
   "source": [
    "index1_mult = Dict()\n",
    "index2_mult = Dict()\n",
    "for ((index1, index2), num_reads) in true_sample_reads\n",
    "    index1_mult[index1] = get(index1_mult, index1, 0) + num_reads\n",
    "    index2_mult[index1] = get(index2_mult, index2, 0) + num_reads\n",
    "end"
   ]
  },
  {
   "cell_type": "markdown",
   "metadata": {},
   "source": [
    "### Simulated number of reads per index sequence\n",
    "This is the main simulation loop, which generates read counts per sample."
   ]
  },
  {
   "cell_type": "code",
   "execution_count": 27,
   "metadata": {
    "collapsed": false
   },
   "outputs": [
    {
     "ename": "LoadError",
     "evalue": "UndefVarError: index not defined",
     "output_type": "error",
     "traceback": [
      "UndefVarError: index not defined",
      "",
      " [inlined code] from ./In[27]:7",
      " in anonymous at ./no file:4294967295"
     ]
    }
   ],
   "source": [
    "sim_index_reads = Dict()\n",
    "\n",
    "for ((index1, index2), num_reads) in true_sample_reads\n",
    "    if rand() < index1_misassign_rate\n",
    "        index1 = 1\n",
    "    end\n",
    "    index_reads = get(sim_index_reads, index, 0)\n",
    "    sim_index_reads[index] = 3\n",
    "end"
   ]
  },
  {
   "cell_type": "code",
   "execution_count": 6,
   "metadata": {
    "collapsed": false
   },
   "outputs": [
    {
     "ename": "LoadError",
     "evalue": "MethodError: `getindex` has no method matching getindex(::Set{Int64}, ::Int64)",
     "output_type": "error",
     "traceback": [
      "MethodError: `getindex` has no method matching getindex(::Set{Int64}, ::Int64)",
      ""
     ]
    }
   ],
   "source": [
    "myset = setdiff(Set([1,2]), Set([1]))\n",
    "myset[0]"
   ]
  },
  {
   "cell_type": "markdown",
   "metadata": {},
   "source": [
    "### Setup for analysis"
   ]
  },
  {
   "cell_type": "code",
   "execution_count": 7,
   "metadata": {
    "collapsed": false
   },
   "outputs": [
    {
     "data": {
      "text/plain": [
       "2-element Array{Set{String},1}:\n",
       " Set(String[\"B\",\"A\",\"C\"])    \n",
       " Set(String[\"4\",\"1\",\"2\",\"3\"])"
      ]
     },
     "execution_count": 7,
     "metadata": {},
     "output_type": "execute_result"
    }
   ],
   "source": [
    "i1s = Set()\n",
    "sample_single_indexes = map(Set, zip(indexes...))"
   ]
  },
  {
   "cell_type": "code",
   "execution_count": null,
   "metadata": {
    "collapsed": true
   },
   "outputs": [],
   "source": []
  }
 ],
 "metadata": {
  "anaconda-cloud": {},
  "kernelspec": {
   "display_name": "Julia 0.4.7",
   "language": "julia",
   "name": "julia-0.4"
  },
  "language_info": {
   "file_extension": ".jl",
   "mimetype": "application/julia",
   "name": "julia",
   "version": "0.4.7"
  }
 },
 "nbformat": 4,
 "nbformat_minor": 2
}
