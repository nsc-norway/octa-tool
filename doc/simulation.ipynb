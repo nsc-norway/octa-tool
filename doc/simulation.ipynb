{
 "cells": [
  {
   "cell_type": "markdown",
   "metadata": {},
   "source": [
    "# Simulation"
   ]
  },
  {
   "cell_type": "markdown",
   "metadata": {},
   "source": [
    "The goal of this notebook is to simulate the index mis-assignment encountered in sequencing, and validate the formulae used in the main program against the simulation truth."
   ]
  },
  {
   "cell_type": "code",
   "execution_count": 3,
   "metadata": {
    "collapsed": false
   },
   "outputs": [],
   "source": [
    "indexes = [\n",
    "    (\"A\",\"1\"), (\"B\",\"1\"), (\"C\", \"1\"),\n",
    "    (\"A\",\"2\"),            (\"C\", \"2\"),\n",
    "    (\"A\",\"3\"), (\"B\",\"3\"), (\"C\", \"3\"),\n",
    "    (\"A\",\"4\"), (\"B\",\"4\"),\n",
    "];"
   ]
  },
  {
   "cell_type": "markdown",
   "metadata": {},
   "source": [
    "### True number of reads\n",
    "This code generates a set of true"
   ]
  },
  {
   "cell_type": "code",
   "execution_count": 26,
   "metadata": {
    "collapsed": false
   },
   "outputs": [
    {
     "data": {
      "text/plain": [
       "Dict{Any,Any} with 10 entries:\n",
       "  (\"A\",\"3\") => 142167.72414019416\n",
       "  (\"C\",\"3\") => 24622.823125911833\n",
       "  (\"A\",\"1\") => 30240.368727347202\n",
       "  (\"C\",\"1\") => 172974.40833888104\n",
       "  (\"B\",\"3\") => 120788.0926044527\n",
       "  (\"A\",\"4\") => 114377.5565550738\n",
       "  (\"B\",\"4\") => 32440.83441178038\n",
       "  (\"B\",\"1\") => 197304.94797745062\n",
       "  (\"C\",\"2\") => 12905.836513986796\n",
       "  (\"A\",\"2\") => 125474.84071311245"
      ]
     },
     "execution_count": 26,
     "metadata": {},
     "output_type": "execute_result"
    }
   ],
   "source": [
    "sample_read_mean = 1e5               # Number of reads\n",
    "sample_read_sd = sample_read_mean*0.5 # Statistical standard deviation (normal dist.)\n",
    "\n",
    "true_sample_reads = Dict([index => (randn()*sample_read_sd + sample_read_mean) for index = indexes])"
   ]
  },
  {
   "cell_type": "markdown",
   "metadata": {},
   "source": [
    "### Simulate number of reads\n",
    "The code below generates read multiplicities for each index combination, in accordance with what would be expected for a set of mis-assignment probabilities. The simulation logic assumes that the index1 and index2 mis-assignment events are independent.  Wright and Vetsigian found a higher probability than what would be expected for independent variables, but the double mis-assignment rate is still very low -- negligible for practical purposes:\n",
    "\n",
    "|                  |              |\n",
    "|------------------|--------------|\n",
    "|Incorrect i5:     |   0.0604 %   |\n",
    "|Incorrect i7:     |   0.0955 %   |\n",
    "|Incorrect sequence|   0.0872 %   |\n",
    "|Multiple incorrect|   0.0003 %   |\n",
    "\n",
    "It is also notable that the i7 and i5 (respectively, the first and second index) mis-assignment rates are significantly different.\n",
    "\n",
    "We cannot detect sequence misassignments at all using demultiplexing data, and most double misassignments will not be detectable."
   ]
  },
  {
   "cell_type": "markdown",
   "metadata": {},
   "source": [
    "### Simulation parameters (part 2)"
   ]
  },
  {
   "cell_type": "code",
   "execution_count": 37,
   "metadata": {
    "collapsed": false
   },
   "outputs": [
    {
     "data": {
      "text/plain": [
       "0.000604"
      ]
     },
     "execution_count": 37,
     "metadata": {},
     "output_type": "execute_result"
    }
   ],
   "source": [
    "index1_misassign_rate = 0.0955 / 100.0\n",
    "index2_misassign_rate = 0.0604 / 100.0\n",
    "## sequence_misassign_rate = 0.0872 / 100.0 ; #Not simulated"
   ]
  },
  {
   "cell_type": "markdown",
   "metadata": {
    "collapsed": false
   },
   "source": [
    "### Possible indexes in the soup\n",
    "The following arrays the read multiplicity of each single index in the data. I.e. if a sample has a large fraction of the reads, one expect the \"free\" indexes available for mis-assignment to also be relatively larger. Whether this is actually a valid model depends on the mechanism of mis-assigment."
   ]
  },
  {
   "cell_type": "code",
   "execution_count": 28,
   "metadata": {
    "collapsed": false
   },
   "outputs": [],
   "source": [
    "index1_mult = Dict()\n",
    "index2_mult = Dict()\n",
    "\n",
    "for ((index1, index2), num_reads) in true_sample_reads\n",
    "    index1_mult[index1] = get(index1_mult, index1, 0) + num_reads\n",
    "    index2_mult[index2] = get(index2_mult, index2, 0) + num_reads\n",
    "end"
   ]
  },
  {
   "cell_type": "markdown",
   "metadata": {},
   "source": [
    "### Simulated number of reads per index sequence\n",
    "This is the main simulation loop, which generates read counts per sample. It's a bit inefficient, could be optimised to not loop over each read."
   ]
  },
  {
   "cell_type": "code",
   "execution_count": 50,
   "metadata": {
    "collapsed": false
   },
   "outputs": [
    {
     "name": "stdout",
     "output_type": "stream",
     "text": [
      "Index 1 miss rate: 0.000955\n",
      "Index 2 miss rate: 0.000604\n"
     ]
    }
   ],
   "source": [
    "println(\"Index 1 miss rate: \", index1_misassign_rate)\n",
    "println(\"Index 2 miss rate: \", index2_misassign_rate)"
   ]
  },
  {
   "cell_type": "code",
   "execution_count": 67,
   "metadata": {
    "collapsed": false
   },
   "outputs": [
    {
     "data": {
      "text/plain": [
       "973297.4331081909"
      ]
     },
     "execution_count": 67,
     "metadata": {},
     "output_type": "execute_result"
    }
   ],
   "source": [
    "read_norm = sum([reads for (seq, reads) = true_sample_reads])"
   ]
  },
  {
   "cell_type": "code",
   "execution_count": 75,
   "metadata": {
    "collapsed": false
   },
   "outputs": [
    {
     "data": {
      "text/plain": [
       "Dict{Any,Any} with 12 entries:\n",
       "  (\"C\",\"1\") => 172835\n",
       "  (\"C\",\"4\") => 43\n",
       "  (\"A\",\"2\") => 125375\n",
       "  (\"A\",\"3\") => 142105\n",
       "  (\"C\",\"3\") => 24684\n",
       "  (\"B\",\"2\") => 84\n",
       "  (\"A\",\"1\") => 30465\n",
       "  (\"B\",\"3\") => 120757\n",
       "  (\"A\",\"4\") => 114311\n",
       "  (\"B\",\"4\") => 32477\n",
       "  (\"B\",\"1\") => 197217\n",
       "  (\"C\",\"2\") => 12938"
      ]
     },
     "execution_count": 75,
     "metadata": {},
     "output_type": "execute_result"
    }
   ],
   "source": [
    "sim_index_reads = Dict()\n",
    "\n",
    "function weightedrandom(norm, read_dict)\n",
    "    value = rand() * norm\n",
    "    for (seq, num) in read_dict\n",
    "        value -= num\n",
    "        if (value <= 0) \n",
    "            return seq\n",
    "        end\n",
    "    end\n",
    "    throw(ErrorException(\"What happened?\"))\n",
    "end\n",
    "\n",
    "for ((index1, index2), num_reads) in true_sample_reads\n",
    "    for i = 1:num_reads\n",
    "        if rand() < index1_misassign_rate\n",
    "            index1var = weightedrandom(read_norm, index1_mult)\n",
    "        else\n",
    "            index1var = index1\n",
    "        end\n",
    "        if rand() < index2_misassign_rate\n",
    "            index2var = weightedrandom(read_norm, index2_mult)\n",
    "        else\n",
    "            index2var = index2\n",
    "        end\n",
    "        index = (index1var, index2var)\n",
    "        index_reads = get(sim_index_reads, index, 0)\n",
    "        sim_index_reads[index] = index_reads + 1\n",
    "    end\n",
    "end\n",
    "sim_index_reads"
   ]
  },
  {
   "cell_type": "markdown",
   "metadata": {
    "collapsed": false
   },
   "source": [
    "#### Test case for weightedrandom\n",
    "Does it reproduce the distribution?"
   ]
  },
  {
   "cell_type": "code",
   "execution_count": 73,
   "metadata": {
    "collapsed": false
   },
   "outputs": [
    {
     "name": "stdout",
     "output_type": "stream",
     "text": [
      "Original index1 multiplicity (fraction): \n",
      "B: 0.360150826530248\n",
      "A: 0.42357092098680293\n",
      "C: 0.2162782524829492\n",
      "Randomised index1 multiplicity (fraction): \n",
      "B: 0.36031\n",
      "A: 0.4239\n",
      "C: 0.2158\n"
     ]
    }
   ],
   "source": [
    "\n",
    "println(\"Original index1 multiplicity (fraction): \")\n",
    "for (seq, num) = index1_mult\n",
    "    println(seq, \": \", num / read_norm)\n",
    "end\n",
    "# Generate weighted random, see if we get the same\n",
    "wr_num = Dict()\n",
    "N=1e5\n",
    "for i = 0:N\n",
    "    seq = weightedrandom(read_norm, index1_mult)\n",
    "    wr_num[seq] = get(wr_num, seq, 0) + 1\n",
    "end\n",
    "\n",
    "println(\"Randomised index1 multiplicity (fraction): \")\n",
    "for (seq, num) = wr_num\n",
    "    println(seq, \": \", num / N)\n",
    "end"
   ]
  },
  {
   "cell_type": "code",
   "execution_count": null,
   "metadata": {
    "collapsed": false
   },
   "outputs": [],
   "source": []
  },
  {
   "cell_type": "markdown",
   "metadata": {},
   "source": [
    "### Setup for analysis"
   ]
  },
  {
   "cell_type": "code",
   "execution_count": 7,
   "metadata": {
    "collapsed": false
   },
   "outputs": [
    {
     "data": {
      "text/plain": [
       "2-element Array{Set{String},1}:\n",
       " Set(String[\"B\",\"A\",\"C\"])    \n",
       " Set(String[\"4\",\"1\",\"2\",\"3\"])"
      ]
     },
     "execution_count": 7,
     "metadata": {},
     "output_type": "execute_result"
    }
   ],
   "source": [
    "i1s = Set()\n",
    "sample_single_indexes = map(Set, zip(indexes...))"
   ]
  },
  {
   "cell_type": "code",
   "execution_count": null,
   "metadata": {
    "collapsed": true
   },
   "outputs": [],
   "source": []
  }
 ],
 "metadata": {
  "anaconda-cloud": {},
  "kernelspec": {
   "display_name": "Julia 0.4.7",
   "language": "julia",
   "name": "julia-0.4"
  },
  "language_info": {
   "file_extension": ".jl",
   "mimetype": "application/julia",
   "name": "julia",
   "version": "0.4.7"
  }
 },
 "nbformat": 4,
 "nbformat_minor": 2
}
