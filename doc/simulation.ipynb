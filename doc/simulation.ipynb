{
 "cells": [
  {
   "cell_type": "markdown",
   "metadata": {},
   "source": [
    "# Simulation"
   ]
  },
  {
   "cell_type": "markdown",
   "metadata": {},
   "source": [
    "The goal of this notebook is to simulate the index mis-assignment encountered in sequencing, and validate the formulae used in the main program against the simulation truth."
   ]
  },
  {
   "cell_type": "markdown",
   "metadata": {},
   "source": [
    "### Index example\n",
    "These indexes have been used for a project at the NSC facility (just an example)."
   ]
  },
  {
   "cell_type": "code",
   "execution_count": 16,
   "metadata": {
    "collapsed": false
   },
   "outputs": [],
   "source": [
    "index1s = split(\"\"\"CTCGACTT CGAAGTAT TAGCAGCT TCTCTATG GATCTACG GTAACGAG ACGTGCGC ATAGTACC GCGTATAC AACGCTGA CGTAGCGA CTCGACTT TAGCAGCT TCTCTATG GATCTACG GTAACGAG ACGTGCGC ATAGTACC GCGTATAC TGCTCGTA AACGCTGA CGTAGCGA CTCGACTT CGAAGTAT TAGCAGCT TCTCTATG ACGTGCGC ATAGTACC GCGTATAC TGCTCGTA CGTAGCGA CTCGACTT TAGCAGCT TCTCTATG GATCTACG GTAACGAG ACGTGCGC ATAGTACC GCGTATAC TGCTCGTA AACGCTGA CGTAGCGA CTCGACTT TAGCAGCT GATCTACG GTAACGAG ATAGTACC GCGTATAC TGCTCGTA AACGCTGA CGTAGCGA CTCGACTT CGAAGTAT TCTCTATG GATCTACG GTAACGAG ACGTGCGC ATAGTACC GCGTATAC TGCTCGTA CGTAGCGA CTCGACTT CGAAGTAT TAGCAGCT TCTCTATG GATCTACG GTAACGAG ATAGTACC GCGTATAC TGCTCGTA AACGCTGA CGTAGCGA CTCGACTT CGAAGTAT TAGCAGCT TCTCTATG GATCTACG GTAACGAG CGTAGCGA CGAGAGTT GACATAGT ACGCTACT ACTCACTG TGAGTACG CTGCGTAG TAGTCTCC CGAGCGAC ACTACGAC GTCTGCTA GTCTATGA TATAGCGA CGAGAGTT GACATAGT ACGCTACT ACTCACTG TGAGTACG CTGCGTAG TAGTCTCC CGAGCGAC ACTACGAC GTCTGCTA GTCTATGA TATAGCGA CGAGAGTT GACATAGT ACGCTACT ACTCACTG TGAGTACG CTGCGTAG TAGTCTCC CGAGCGAC ACTACGAC GTCTGCTA GTCTATGA TATAGCGA CGAGAGTT GACATAGT ACGCTACT ACTCACTG TGAGTACG CTGCGTAG TAGTCTCC CGAGCGAC ACTACGAC GTCTGCTA GTCTATGA TATAGCGA CGAGAGTT GACATAGT ACGCTACT ACTCACTG TGAGTACG CTGCGTAG TAGTCTCC CGAGCGAC ACTACGAC GTCTGCTA GTCTATGA TATAGCGA CGAGAGTT GACATAGT ACGCTACT ACTCACTG TGAGTACG CTGCGTAG TAGTCTCC CGAGCGAC ACTACGAC GTCTGCTA GTCTATGA TATAGCGA CGAGAGTT GACATAGT ACTCACTG TGAGTACG CTGCGTAG TAGTCTCC CGAGCGAC ACTACGAC TATAGCGA TATAGCGA\"\"\", \" \")\n",
    "index2s = split(\"\"\"CTACTATA CTACTATA CTACTATA CTACTATA CTACTATA CTACTATA CTACTATA CTACTATA CTACTATA CTACTATA CTACTATA CGTTACTA CGTTACTA CGTTACTA CGTTACTA CGTTACTA CGTTACTA CGTTACTA CGTTACTA CGTTACTA CGTTACTA CGTTACTA AGAGTCAC AGAGTCAC AGAGTCAC AGAGTCAC AGAGTCAC AGAGTCAC AGAGTCAC AGAGTCAC AGAGTCAC TACGAGAC TACGAGAC TACGAGAC TACGAGAC TACGAGAC TACGAGAC TACGAGAC TACGAGAC TACGAGAC TACGAGAC TACGAGAC ACGTCTCG ACGTCTCG ACGTCTCG ACGTCTCG ACGTCTCG ACGTCTCG ACGTCTCG ACGTCTCG ACGTCTCG TCGACGAG TCGACGAG TCGACGAG TCGACGAG TCGACGAG TCGACGAG TCGACGAG TCGACGAG TCGACGAG TCGACGAG GATCGTGT GATCGTGT GATCGTGT GATCGTGT GATCGTGT GATCGTGT GATCGTGT GATCGTGT GATCGTGT GATCGTGT GATCGTGT GTCAGATA GTCAGATA GTCAGATA GTCAGATA GTCAGATA GTCAGATA GTCAGATA CTACTATA CTACTATA CTACTATA CTACTATA CTACTATA CTACTATA CTACTATA CTACTATA CTACTATA CTACTATA CTACTATA CTACTATA CGTTACTA CGTTACTA CGTTACTA CGTTACTA CGTTACTA CGTTACTA CGTTACTA CGTTACTA CGTTACTA CGTTACTA CGTTACTA CGTTACTA AGAGTCAC AGAGTCAC AGAGTCAC AGAGTCAC AGAGTCAC AGAGTCAC AGAGTCAC AGAGTCAC AGAGTCAC AGAGTCAC AGAGTCAC AGAGTCAC TACGAGAC TACGAGAC TACGAGAC TACGAGAC TACGAGAC TACGAGAC TACGAGAC TACGAGAC TACGAGAC TACGAGAC TACGAGAC TACGAGAC ACGTCTCG ACGTCTCG ACGTCTCG ACGTCTCG ACGTCTCG ACGTCTCG ACGTCTCG ACGTCTCG ACGTCTCG ACGTCTCG ACGTCTCG ACGTCTCG TCGACGAG TCGACGAG TCGACGAG TCGACGAG TCGACGAG TCGACGAG TCGACGAG TCGACGAG TCGACGAG TCGACGAG TCGACGAG TCGACGAG GATCGTGT GATCGTGT GATCGTGT GATCGTGT GATCGTGT GATCGTGT GATCGTGT GATCGTGT GATCGTGT GTCAGATA\"\"\", \" \")\n",
    "\n",
    "\n",
    "indexes = zip(index1s, index2s) ;"
   ]
  },
  {
   "cell_type": "code",
   "execution_count": null,
   "metadata": {
    "collapsed": false
   },
   "outputs": [],
   "source": []
  },
  {
   "cell_type": "markdown",
   "metadata": {},
   "source": [
    "### True number of reads\n",
    "This code generates a set of true"
   ]
  },
  {
   "cell_type": "code",
   "execution_count": 17,
   "metadata": {
    "collapsed": false
   },
   "outputs": [],
   "source": [
    "sample_read_mean = 1e5               # Number of reads\n",
    "sample_read_sd = sample_read_mean*0.5 # Statistical standard deviation (normal dist.)\n",
    "\n",
    "true_sample_reads = Dict([index => (randn()*sample_read_sd + sample_read_mean) for index = indexes]) ;"
   ]
  },
  {
   "cell_type": "markdown",
   "metadata": {},
   "source": [
    "### Simulate number of reads\n",
    "The code below generates read multiplicities for each index combination, in accordance with what would be expected for a set of mis-assignment probabilities. The simulation logic assumes that the index1 and index2 mis-assignment events are independent.  Wright and Vetsigian found a higher probability than what would be expected for independent variables, but the double mis-assignment rate is still very low -- negligible for practical purposes:\n",
    "\n",
    "|                  |              |\n",
    "|------------------|--------------|\n",
    "|Incorrect i5:     |   0.0604 %   |\n",
    "|Incorrect i7:     |   0.0955 %   |\n",
    "|Incorrect sequence|   0.0872 %   |\n",
    "|Multiple incorrect|   0.0003 %   |\n",
    "\n",
    "It is also notable that the i7 and i5 (respectively, the first and second index) mis-assignment rates are significantly different.\n",
    "\n",
    "We cannot detect sequence misassignments at all using demultiplexing data, and most double misassignments will not be detectable."
   ]
  },
  {
   "cell_type": "markdown",
   "metadata": {},
   "source": [
    "### Simulation parameters (part 2)"
   ]
  },
  {
   "cell_type": "code",
   "execution_count": 18,
   "metadata": {
    "collapsed": false
   },
   "outputs": [
    {
     "data": {
      "text/plain": [
       "0.000604"
      ]
     },
     "execution_count": 18,
     "metadata": {},
     "output_type": "execute_result"
    }
   ],
   "source": [
    "index1_misassign_rate = 0.0955 / 100.0\n",
    "index2_misassign_rate = 0.0604 / 100.0\n",
    "## sequence_misassign_rate = 0.0872 / 100.0 ; #Not simulated"
   ]
  },
  {
   "cell_type": "markdown",
   "metadata": {
    "collapsed": false
   },
   "source": [
    "### Possible indexes in the soup\n",
    "The following arrays the read multiplicity of each single index in the data. I.e. if a sample has a large fraction of the reads, one expect the \"free\" indexes available for mis-assignment to also be relatively larger. Whether this is actually a valid model depends on the mechanism of mis-assigment."
   ]
  },
  {
   "cell_type": "code",
   "execution_count": 19,
   "metadata": {
    "collapsed": false
   },
   "outputs": [],
   "source": [
    "index1_mult = Dict()\n",
    "index2_mult = Dict()\n",
    "\n",
    "for ((index1, index2), num_reads) in true_sample_reads\n",
    "    index1_mult[index1] = get(index1_mult, index1, 0) + num_reads\n",
    "    index2_mult[index2] = get(index2_mult, index2, 0) + num_reads\n",
    "end"
   ]
  },
  {
   "cell_type": "markdown",
   "metadata": {},
   "source": [
    "### Simulated number of reads per index sequence\n",
    "This is the main simulation loop, which generates read counts per sample. It's a bit inefficient, could be optimised to not loop over each read."
   ]
  },
  {
   "cell_type": "code",
   "execution_count": 27,
   "metadata": {
    "collapsed": false
   },
   "outputs": [
    {
     "name": "stdout",
     "output_type": "stream",
     "text": [
      "Index 1 miss rate: 0.000955\n",
      "Index 2 miss rate: 0.000604\n"
     ]
    }
   ],
   "source": [
    "println(\"Index 1 miss rate: \", index1_misassign_rate)\n",
    "println(\"Index 2 miss rate: \", index2_misassign_rate)"
   ]
  },
  {
   "cell_type": "code",
   "execution_count": 21,
   "metadata": {
    "collapsed": false
   },
   "outputs": [
    {
     "data": {
      "text/plain": [
       "1.5049427283585299e7"
      ]
     },
     "execution_count": 21,
     "metadata": {},
     "output_type": "execute_result"
    }
   ],
   "source": [
    "read_norm = sum([reads for (seq, reads) = true_sample_reads])"
   ]
  },
  {
   "cell_type": "code",
   "execution_count": 28,
   "metadata": {
    "collapsed": false
   },
   "outputs": [],
   "source": [
    "sim_index_reads = Dict()\n",
    "\n",
    "function weightedrandom(norm, read_dict)\n",
    "    value = rand() * norm\n",
    "    for (seq, num) in read_dict\n",
    "        value -= num\n",
    "        if (value <= 0) \n",
    "            return seq\n",
    "        end\n",
    "    end\n",
    "    throw(ErrorException(\"What happened?\"))\n",
    "end\n",
    "\n",
    "for ((index1, index2), num_reads) in true_sample_reads\n",
    "    for i = 1:num_reads\n",
    "        if rand() < index1_misassign_rate\n",
    "            index1var = weightedrandom(read_norm, index1_mult)\n",
    "        else\n",
    "            index1var = index1\n",
    "        end\n",
    "        if rand() < index2_misassign_rate\n",
    "            index2var = weightedrandom(read_norm, index2_mult)\n",
    "        else\n",
    "            index2var = index2\n",
    "        end\n",
    "        index = (index1var, index2var)\n",
    "        index_reads = get(sim_index_reads, index, 0)\n",
    "        sim_index_reads[index] = index_reads + 1\n",
    "    end\n",
    "end\n",
    "#sim_index_reads"
   ]
  },
  {
   "cell_type": "markdown",
   "metadata": {
    "collapsed": false
   },
   "source": [
    "#### Test case for weightedrandom\n",
    "Does it reproduce the distribution?"
   ]
  },
  {
   "cell_type": "code",
   "execution_count": 33,
   "metadata": {
    "collapsed": false
   },
   "outputs": [
    {
     "name": "stdout",
     "output_type": "stream",
     "text": [
      "Original index1 multiplicity (fraction): \n",
      "GCGTATAC: 0.03759603124480064\n",
      "ACTACGAC: 0.056723886223401056\n",
      "GTCTATGA: 0.030942060868185094\n",
      "GACATAGT: 0.048168132460074724\n",
      "AACGCTGA: 0.03779527042410483\n",
      "GATCTACG: 0.034166943765729964\n",
      "CGAGCGAC: 0.051062077695203247\n",
      "GTAACGAG: 0.029008410337937805\n",
      "TATAGCGA: 0.028771451805996436\n",
      "GTCTGCTA: 0.03079451112919081\n",
      "ATAGTACC: 0.04896742699123707\n",
      "TGAGTACG: 0.04351332789808951\n",
      "CGAAGTAT: 0.03849940672784692\n",
      "CGAGAGTT: 0.051110515831126996\n",
      "TCTCTATG: 0.04000118427293515\n",
      "CGTAGCGA: 0.028942980892760824\n",
      "ACGTGCGC: 0.03282966690298674\n",
      "TGCTCGTA: 0.04105522907337671\n",
      "TAGTCTCC: 0.057345676638830854\n",
      "ACGCTACT: 0.04243963112353712\n",
      "CTCGACTT: 0.049612894854846504\n",
      "CTGCGTAG: 0.0560262856089236\n",
      "TAGCAGCT: 0.04061521669507549\n",
      "ACTCACTG: 0.04401178053380199\n",
      "Randomised index1 multiplicity (fraction): \n",
      "GCGTATAC: 0.03838\n",
      "ACTACGAC: 0.05596\n",
      "GTCTATGA: 0.03196\n",
      "GACATAGT: 0.04838\n",
      "CGAGCGAC: 0.05117\n",
      "GATCTACG: 0.03293\n",
      "AACGCTGA: 0.03762\n",
      "GTAACGAG: 0.02825\n",
      "TATAGCGA: 0.02877\n",
      "CGAAGTAT: 0.03908\n",
      "TGAGTACG: 0.04317\n",
      "GTCTGCTA: 0.03082\n",
      "ATAGTACC: 0.04961\n",
      "CGAGAGTT: 0.05006\n",
      "TCTCTATG: 0.04034\n",
      "CGTAGCGA: 0.02959\n",
      "ACGTGCGC: 0.03386\n",
      "TGCTCGTA: 0.04103\n",
      "TAGTCTCC: 0.05837\n",
      "ACGCTACT: 0.0428\n",
      "CTCGACTT: 0.04868\n",
      "TAGCAGCT: 0.04104\n",
      "CTGCGTAG: 0.05609\n",
      "ACTCACTG: 0.04205\n"
     ]
    }
   ],
   "source": [
    "println(\"Original index1 multiplicity (fraction): \")\n",
    "for (seq, num) = index1_mult\n",
    "    println(seq, \": \", num / read_norm)\n",
    "end\n",
    "# Generate weighted random, see if we get the same\n",
    "wr_num = Dict()\n",
    "N=1e5\n",
    "for i = 0:N\n",
    "    seq = weightedrandom(read_norm, index1_mult)\n",
    "    wr_num[seq] = get(wr_num, seq, 0) + 1\n",
    "end\n",
    "\n",
    "println(\"Randomised index1 multiplicity (fraction): \")\n",
    "for (seq, num) = wr_num\n",
    "    println(seq, \": \", num / N)\n",
    "end"
   ]
  },
  {
   "cell_type": "markdown",
   "metadata": {},
   "source": [
    "# Setup for analysis\n",
    "## Indexes"
   ]
  },
  {
   "cell_type": "code",
   "execution_count": 30,
   "metadata": {
    "collapsed": false
   },
   "outputs": [
    {
     "data": {
      "text/plain": [
       "31"
      ]
     },
     "execution_count": 30,
     "metadata": {},
     "output_type": "execute_result"
    }
   ],
   "source": [
    "permutations = Set([(i1, i2) for i1 = index1s, i2 = index2s])\n",
    "known = Set(indexes) ;\n",
    "unknown = setdiff(permutations, known)\n",
    "length(unknown)"
   ]
  },
  {
   "cell_type": "markdown",
   "metadata": {},
   "source": [
    "## Metrics\n",
    "Generate metrics that would be available in a real run."
   ]
  },
  {
   "cell_type": "markdown",
   "metadata": {
    "collapsed": false
   },
   "source": [
    "### 1. Naive formula (wrong)\n",
    "This counts the number of reads assigned to unknown index combinations compared the total number of reads. This ratio is in general less than the total mis-assignment rate, because there is also cross contamination between the actual sample indexes."
   ]
  },
  {
   "cell_type": "code",
   "execution_count": 40,
   "metadata": {
    "collapsed": false
   },
   "outputs": [
    {
     "data": {
      "text/plain": [
       "2549"
      ]
     },
     "execution_count": 40,
     "metadata": {},
     "output_type": "execute_result"
    }
   ],
   "source": [
    "sum_sample_reads = sum([sim_index_reads[k] for k = known])\n",
    "sum_unknown_reads = sum([sim_index_reads[k] for k = unknown])"
   ]
  },
  {
   "cell_type": "code",
   "execution_count": 47,
   "metadata": {
    "collapsed": false
   },
   "outputs": [
    {
     "name": "stdout",
     "output_type": "stream",
     "text": [
      "Average (simple) miss rate: 0.017 %\n",
      "for comparison: true avg. miss rate: 0.078 %\n"
     ]
    }
   ],
   "source": [
    "mis_id_rate_avg = sum_unknown_reads / (sum_unknown_reads + sum_sample_reads)\n",
    "@printf(\"Average (simple) miss rate: %5.3f %%\\n\", mis_id_rate_avg*100)\n",
    "trueone = (index1_misassign_rate + index2_misassign_rate) / 2.0\n",
    "@printf(\"for comparison: true avg. miss rate: %5.3f %%\\n\", trueone*100)"
   ]
  },
  {
   "cell_type": "markdown",
   "metadata": {},
   "source": [
    "### Per index (end) analysis\n",
    "This repeats the above analysis to see if there is a difference between the first and the second index."
   ]
  },
  {
   "cell_type": "code",
   "execution_count": 100,
   "metadata": {
    "collapsed": false
   },
   "outputs": [
    {
     "name": "stdout",
     "output_type": "stream",
     "text": [
      "Index1 ratio: 0.017 %\n",
      "Index2 ratio: 0.017 %\n"
     ]
    }
   ],
   "source": [
    "i1known = 0\n",
    "i1unknown = 0\n",
    "for i1 in Set([i1 for (i1, i2)=keys(sim_index_reads)])\n",
    "    i1known   += sum([sim_index_reads[k] for k=filter(x -> x[1] == i1, known)])\n",
    "    i1unknown += reduce(+, 0, [sim_index_reads[k] for k=filter(x -> x[1] == i1, unknown)])\n",
    "end\n",
    "@printf(\"Index1 ratio: %5.3f %%\\n\", i1unknown * 100.0 / (i1known + i1unknown))\n",
    "i2known = 0\n",
    "i2unknown = 0\n",
    "for i2 in Set([i2 for (i1, i2)=keys(sim_index_reads)])\n",
    "    i2known   += sum([sim_index_reads[k] for k=filter(x -> x[2] == i2, known)])\n",
    "    i2unknown += reduce(+, 0, [sim_index_reads[k] for k=filter(x -> x[2] == i2, unknown)])\n",
    "end\n",
    "@printf(\"Index2 ratio: %5.3f %%\\n\", i2unknown * 100.0 / (i2known + i2unknown))"
   ]
  },
  {
   "cell_type": "markdown",
   "metadata": {},
   "source": [
    "## 2. Analysis\n",
    "This is a more complex analysis taking into account the level of cross contaminations between samples, which are not observable. This is absolutely necessary to get a reliable result, otherwise only a fraction of the mis-assignment rate is included."
   ]
  },
  {
   "cell_type": "markdown",
   "metadata": {},
   "source": [
    "## Second derivation attempt\n",
    "Let $a$ and $b$ represent particular first and second indexes respectively, and $N$ in general represent the number of fragments with a specific combination of indexes.\n",
    "\n",
    "The following is an expression for the number of reads for a given index: \n",
    "\n",
    "$$ R_{a,b} \\approx N^{true}_{a,b}-\\alpha ( \\sum_{i\\neq a} N^{mis}_{a,b\\to i,b}+\\sum_{i\\neq b} N^{mis}_{a,b\\to a,i} )\n",
    "   + \\sum_{j\\neq a} N^{mis}_{j,b\\to a,b} + \\sum_{i\\neq b} N^{mis}_{a,i\\to a,b}  \\quad (1)$$\n",
    "\n",
    "(ignoring read errors affecting single bases, etc.) The sums are over all possible indexes at the relevant position (first or second), regardless of whether the resulting combinations correspond to a real sample.\n",
    "\n",
    "None of the terms on the right hand side are available as measurements. The first term represents the true number of fragments. The second and third terms (which are multiplied by $\\alpha$) subtract number of times the true index $a,b$ was read as something else, either (second term) due to a wrong first index or (third term) a wrong second index. $\\alpha$ itself is between zero and one and depends on the mode of mis-identification. If additional erroneous fragments are *created*, without destroying any of the original fragments, $\\alpha$ is 0. This is true in the mode postulated by Sinha et al. If fragments instead are changed from the original index to a new one, $\\alpha$ is 1.\n",
    "\n",
    "The final two terms add back the number of times another index was mis-read as $a,b$. The above formula is an approximation because it ignores when *both* indexes were mis-read."
   ]
  },
  {
   "cell_type": "markdown",
   "metadata": {},
   "source": [
    "### Precise description of the terms\n",
    " * $ N^{true}_{a,b} $: Number of true fragments with indexes $a$ and $b$ that are detected, but are not necessarily read as such. $N^{true}_{a,b}$ includes an overall efficiency factor, which is the probability that a fragment will be detected at all. It only counts detected fragments.\n",
    " * $ N^{mis}_{a,b\\to c,d}$: Number of fragments with index read as $c,d$, but which actually had a true index $a,b$ (where $a$ and $c$, $b$ and $d$, may be equal or different, but at least one of the two pairs is different).\n",
    "\n",
    "These definitions are not directly useful in practice. We can measure $R_{a,b}$ for all combinations of indexes -- known and unknown (to a good approximation). We are, however, after the mis-identification probability, $\\gamma$."
   ]
  },
  {
   "cell_type": "markdown",
   "metadata": {},
   "source": [
    "### Relating to the mis-identification probability \"$\\gamma$\"\n",
    "We have to construct a model of how the mis-identification probability relates to $N^{mis}_{a,b\\to c,d}$. We would like to define a $\\gamma$ in a way that is independent of the specific experiment setup used, i.e. the choice of indexes for each sample, or the relative number of reads for each sample. It should only depend on the particular sample prep and/or sequencing technology used (and potentially global conditions such as the error rate). There is in general a separate mis-ID probability for the first and the second index, $\\gamma_1$ and $\\gamma_2$."
   ]
  },
  {
   "cell_type": "markdown",
   "metadata": {},
   "source": [
    "We first concentrate on the specific case of a mis-identification of the second index, however this could be reversed in general. We can postulate that the number of mis-identified fragments originating from a particular index pair $a,j$ is proportional to the number of true such fragments:\n",
    "$$ N^{mis}_{a,j\\to a,k} = \\gamma_2 N^{true}_{a,j} f(k)\\; ,$$\n",
    "where $f(k)$ is an unspecified function of the \"replacement\" index $k$. For mis-identification of the first index:\n",
    "$$ N^{mis}_{j,b\\to k,b} = \\gamma_1 N^{true}_{j,b} f'(k)$$\n",
    "($f'(k)$ is the corresponding function for the first index)\n",
    "\n",
    "We know that index read mis-assignments are not caused by random read errors of single bases. Instead, there will exist a genuine index $k$ somewhere which somehow gets combined with $a$."
   ]
  },
  {
   "cell_type": "markdown",
   "metadata": {},
   "source": [
    "#### Functional dependence on the \"target\" index\n",
    "In a model where true fragments with index $x,k$ (any first index) are consumed in order to convert $a,j$ to $a,k$, the function $f(k)$ would depend on the number of available such fragments, i.e.,\n",
    "$$ f(k) = C \\sum_i N_{i,k}^{true} \\; .$$\n",
    "One may absorb the constant of proportionality $C$ into $\\gamma$, but we then label it $\\gamma'$ to signify that it is no longer a probability.\n",
    "\n",
    "The studies of Sinha et al. give us reason to believe that the probability to create new fragments with index $k$ depends on the amount of free index primer with the index $k$ left in the pool at the time of cluster generation. It is not given that the factorisation of $N^{mis}_{a,j\\to a,k}$ above holds when the index primer is the limiting element."
   ]
  },
  {
   "cell_type": "markdown",
   "metadata": {},
   "source": [
    "### Solving for $\\gamma$\n",
    "We will show later how $\\gamma$ can be a useful quantity to describe the scale of the mis-assignment problem, but we will first work out its relation to the observable quantities $R_{a,b}$.\n",
    "\n",
    "In order to estimate $\\gamma$, there needs to be an index combination $a,b$ which does not correspond to any sample -- a first and second index which exists in the pool, but not as a combination. Then we have $N^{true}_{a,b}=0$. Then Eq. 1 reduces to:\n",
    "$$ R_{a,b} = -\\alpha \\left( \\sum_{i\\neq a} N^{mis}_{a,b\\to i,b}+\\sum_{i\\neq b} N^{mis}_{a,b\\to a,i} \\right)\n",
    "    + \\sum_{i\\neq a} N^{mis}_{i,b\\to a,b} + \\sum_{i\\neq b} N^{mis}_{a,i\\to a,b}  $$"
   ]
  },
  {
   "cell_type": "markdown",
   "metadata": {},
   "source": [
    "Expanding the mis-identification terms leads to: \n",
    "$$ R_{a,b} = -\\alpha \\left( \\sum_{i\\neq a} (\\gamma_1'  N_{a,b}^{true}\\sum_m N_{m,i}^{true})\n",
    "        + \\sum_{i\\neq b}  (\\gamma_2' N_{a,b}^{true}\\sum_m N_{i,m}^{true}) \\right) \\\\\n",
    "        + \\sum_{i\\neq a}  (\\gamma_1' N_{a,i}^{true}\\sum_m N_{m,b}^{true})\n",
    "        + \\sum_{i\\neq b}  (\\gamma_2' N_{i,b}^{true}\\sum_m N_{a,m}^{true}) $$"
   ]
  },
  {
   "cell_type": "markdown",
   "metadata": {},
   "source": [
    "The first two terms also vanish, because $N^{true}_{a,b}=0$."
   ]
  },
  {
   "cell_type": "markdown",
   "metadata": {},
   "source": [
    "$$ R_{a,b} = \\sum_{i\\neq a}  (\\gamma_1' N_{a,i}^{true}\\sum_m N_{m,b}^{true})\n",
    "           + \\sum_{i\\neq b}  (\\gamma_2' N_{i,b}^{true}\\sum_m N_{a,m}^{true}) \\\\\n",
    "           $$"
   ]
  },
  {
   "cell_type": "markdown",
   "metadata": {},
   "source": [
    "The sums can be collected \n",
    "$$ R_{a,b} = \\gamma_1' \\sum_{i\\neq a} \\sum_m N_{a,i}^{true} N_{m,b}^{true}\n",
    "           + \\gamma_2' \\sum_{i\\neq b} \\sum_m N_{i,b}^{true} N_{a,m}^{true} \\; .\n",
    "           $$\n",
    "This is as far as we get with algebra."
   ]
  },
  {
   "cell_type": "markdown",
   "metadata": {},
   "source": [
    "### An approximate expression related to observable quantities\n",
    "To first order in $\\gamma$, $R_{i,j} = N_{i,j}^{true}$. Assuming the mis-identification probability is small, we can replace $N^{true}$ in the above expression:"
   ]
  },
  {
   "cell_type": "markdown",
   "metadata": {},
   "source": [
    "$$ \n",
    "   R_{a,b} = \\gamma_1' \\sum_{i\\neq a} \\sum_m R_{a,i} R_{m,b}\n",
    "           + \\gamma_2' \\sum_{i\\neq b} \\sum_m R_{i,b} R_{a,m} \\; .\n",
    "$$"
   ]
  },
  {
   "cell_type": "markdown",
   "metadata": {},
   "source": [
    "$a,b$ is still assumed to be a specific index combination with zero true reads."
   ]
  },
  {
   "cell_type": "markdown",
   "metadata": {},
   "source": []
  },
  {
   "cell_type": "markdown",
   "metadata": {},
   "source": [
    "### How to "
   ]
  },
  {
   "cell_type": "code",
   "execution_count": null,
   "metadata": {
    "collapsed": true
   },
   "outputs": [],
   "source": []
  }
 ],
 "metadata": {
  "anaconda-cloud": {},
  "kernelspec": {
   "display_name": "Julia 0.4.7",
   "language": "julia",
   "name": "julia-0.4"
  },
  "language_info": {
   "file_extension": ".jl",
   "mimetype": "application/julia",
   "name": "julia",
   "version": "0.4.7"
  }
 },
 "nbformat": 4,
 "nbformat_minor": 2
}
